{
 "cells": [
  {
   "cell_type": "code",
   "execution_count": 8,
   "id": "7a7c5130-00ef-4682-9e0b-515e218ad990",
   "metadata": {},
   "outputs": [],
   "source": [
    "# Import required libraries\n",
    "import pandas as pd\n",
    "import matplotlib.pyplot as plt\n",
    "import numpy as np\n",
    "from sklearn.preprocessing import StandardScaler\n",
    "\n",
    "gk_df = pd.read_csv(\"transformed_data/goalkeeper_stats.csv\")\n",
    "outfield_df = pd.read_csv(\"transformed_data/outfield_stats.csv\")"
   ]
  },
  {
   "cell_type": "code",
   "execution_count": 9,
   "id": "2931e63c-1e6b-46fc-b6d5-4ff81d1c4ad4",
   "metadata": {},
   "outputs": [
    {
     "name": "stdout",
     "output_type": "stream",
     "text": [
      "CSV files saved successfully!\n"
     ]
    }
   ],
   "source": [
    "# List to hold DataFrames\n",
    "df_list = []\n",
    "\n",
    "def_df = outfield_df[(outfield_df['Versus'] == 'Fullbacks') | (outfield_df['Versus'] == 'Center Backs')]\n",
    "mid_df = outfield_df[(outfield_df['Versus'] == 'Midfielders')]\n",
    "fwd_df = outfield_df[(outfield_df['Versus'] == 'Att Mid / Wingers') | (outfield_df['Versus'] == 'Forwards')]\n",
    "\n",
    "\n",
    "def_df.to_csv(\"transformed_data/defenders_vs.csv\", index=False)\n",
    "mid_df.to_csv(\"transformed_data/midfielders_vs.csv\", index=False)\n",
    "fwd_df.to_csv(\"transformed_data/forwards_vs.csv\", index=False)\n",
    "\n",
    "print(\"CSV files saved successfully!\")"
   ]
  },
  {
   "cell_type": "code",
   "execution_count": 10,
   "id": "d57a1151-dee7-4f12-901a-aea68d939fdb",
   "metadata": {},
   "outputs": [
    {
     "name": "stdout",
     "output_type": "stream",
     "text": [
      "Datasets split and saved successfully!\n"
     ]
    }
   ],
   "source": [
    "# Load datasets\n",
    "gk_df = pd.read_csv(\"transformed_data/goalkeeper_stats.csv\")\n",
    "outfield_df = pd.read_csv(\"transformed_data/outfield_stats.csv\")\n",
    "\n",
    "# Define key identifier columns to keep\n",
    "key_columns = [\"Player\", \"Versus\", \"BasedOnMinutes\", \"scouting_period\"]\n",
    "\n",
    "# Splitting columns into Per 90 and Percentile\n",
    "gk_per90_df = gk_df[key_columns + [col for col in gk_df.columns if \"Per90\" in col]]\n",
    "gk_percentile_df = gk_df[key_columns + [col for col in gk_df.columns if \"Percentile\" in col]]\n",
    "\n",
    "outfield_per90_df = outfield_df[key_columns + [col for col in outfield_df.columns if \"Per90\" in col]]\n",
    "outfield_percentile_df = outfield_df[key_columns + [col for col in outfield_df.columns if \"Percentile\" in col]]\n",
    "\n",
    "# Save the split datasets\n",
    "gk_per90_df.to_csv(\"transformed_data/gk_per90.csv\", index=False)\n",
    "gk_percentile_df.to_csv(\"transformed_data/gk_percentile.csv\", index=False)\n",
    "\n",
    "outfield_per90_df.to_csv(\"transformed_data/outfield_per90.csv\", index=False)\n",
    "outfield_percentile_df.to_csv(\"transformed_data/outfield_percentile.csv\", index=False)\n",
    "\n",
    "print(\"Datasets split and saved successfully!\")"
   ]
  },
  {
   "cell_type": "code",
   "execution_count": 11,
   "id": "339d160c-b7a4-49a6-af51-c6f9b350fab1",
   "metadata": {},
   "outputs": [
    {
     "name": "stdout",
     "output_type": "stream",
     "text": [
      "Per 90 and Percentile CSV files saved successfully!\n"
     ]
    }
   ],
   "source": [
    "# Function to split into Per 90 and Percentile DataFrames\n",
    "def split_per90_percentile(df):\n",
    "    per90_df = df[key_columns + [col for col in df.columns if \"Per 90\" in col]]\n",
    "    percentile_df = df[key_columns + [col for col in df.columns if \"Percentile\" in col]]\n",
    "    return per90_df, percentile_df\n",
    "\n",
    "# Split each DataFrame\n",
    "def_per90_df, def_percentile_df = split_per90_percentile(def_df)\n",
    "mid_per90_df, mid_percentile_df = split_per90_percentile(mid_df)\n",
    "fwd_per90_df, fwd_percentile_df = split_per90_percentile(fwd_df)\n",
    "\n",
    "# Save to CSV\n",
    "def_per90_df.to_csv(\"transformed_data/defenders_per90.csv\", index=False)\n",
    "def_percentile_df.to_csv(\"transformed_data/defenders_percentile.csv\", index=False)\n",
    "\n",
    "mid_per90_df.to_csv(\"transformed_data/midfielders_per90.csv\", index=False)\n",
    "mid_percentile_df.to_csv(\"transformed_data/midfielders_percentile.csv\", index=False)\n",
    "\n",
    "fwd_per90_df.to_csv(\"transformed_data/forwards_per90.csv\", index=False)\n",
    "fwd_percentile_df.to_csv(\"transformed_data/forwards_percentile.csv\", index=False)\n",
    "\n",
    "print(\"Per 90 and Percentile CSV files saved successfully!\")"
   ]
  },
  {
   "cell_type": "code",
   "execution_count": null,
   "id": "ade07ab4-f539-4364-82d7-be89debc1eaf",
   "metadata": {},
   "outputs": [],
   "source": []
  }
 ],
 "metadata": {
  "kernelspec": {
   "display_name": "Python 3 (ipykernel)",
   "language": "python",
   "name": "python3"
  },
  "language_info": {
   "codemirror_mode": {
    "name": "ipython",
    "version": 3
   },
   "file_extension": ".py",
   "mimetype": "text/x-python",
   "name": "python",
   "nbconvert_exporter": "python",
   "pygments_lexer": "ipython3",
   "version": "3.11.3"
  }
 },
 "nbformat": 4,
 "nbformat_minor": 5
}
