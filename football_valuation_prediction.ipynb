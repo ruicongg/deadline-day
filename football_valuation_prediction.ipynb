{
 "cells": [
  {
   "cell_type": "markdown",
   "metadata": {},
   "source": [
    "# Load the Dataset"
   ]
  },
  {
   "cell_type": "code",
   "execution_count": 167,
   "metadata": {},
   "outputs": [],
   "source": [
    "# Import required libraries\n",
    "import pandas as pd\n",
    "import matplotlib.pyplot as plt\n",
    "import numpy as np\n",
    "from sklearn.preprocessing import StandardScaler\n",
    "\n",
    "# PCA\n",
    "from sklearn.decomposition import PCA\n",
    "# KMeans\n",
    "from sklearn.cluster import KMeans\n",
    "from sklearn.metrics import silhouette_score, davies_bouldin_score,calinski_harabasz_score \n",
    "\n",
    "# KNN\n",
    "from sklearn.model_selection import train_test_split\n",
    "from sklearn.neighbors import KNeighborsClassifier\n",
    "from sklearn.metrics import accuracy_score, classification_report"
   ]
  },
  {
   "cell_type": "code",
   "execution_count": 168,
   "metadata": {},
   "outputs": [],
   "source": [
    "def create_pivot_table(df):\n",
    "    \"\"\"\n",
    "    Creates a pivot table from player statistics and flattens column names\n",
    "    \"\"\"\n",
    "    # Create pivot table\n",
    "    pivot_df = df.pivot_table(\n",
    "        index=[\"Player\", \"Versus\", \"BasedOnMinutes\", \"scouting_period\"],\n",
    "        columns=[\"Statistic\"],\n",
    "        values=[\"Per90\", \"Percentile\"]\n",
    "    ).reset_index()\n",
    "    \n",
    "    # Flatten column names\n",
    "    pivot_df.columns = [\n",
    "        '_'.join(str(i) for i in col if str(i) != '')\n",
    "        if isinstance(col, tuple) else str(col)\n",
    "        for col in pivot_df.columns\n",
    "    ]\n",
    "    \n",
    "    return pivot_df"
   ]
  },
  {
   "cell_type": "code",
   "execution_count": 169,
   "metadata": {},
   "outputs": [],
   "source": [
    "# # List of input CSV files\n",
    "# input_files = [\n",
    "#     \"data/Arsenal_Scouting_Data.xlsx\",\n",
    "#     \"data/AstonVilla_Scouting_Data.xlsx\",\n",
    "#     \"data/Bournemouth_Scouting_Data.xlsx\",\n",
    "#     \"data/Brentford_Scouting_Data.xlsx\",\n",
    "#     \"data/Brighton_Scouting_Data.xlsx\",\n",
    "#     \"data/Chelsea_Scouting_Data.xlsx\",\n",
    "#     \"data/CrystalPalace_Scouting_Data.xlsx\",\n",
    "#     \"data/Everton_Scouting_Data.xlsx\",\n",
    "#     \"data/Fulham_Scouting_Data.xlsx\",\n",
    "#     \"data/IpswichTown_Scouting_Data.xlsx\",\n",
    "#     \"data/Leicester_City_Scouting_Data.xlsx\",\n",
    "#     \"data/ManchesterUtd_Scouting_Data.xlsx\",\n",
    "#     \"data/ManCity_Scouting_Data.xlsx\",\n",
    "#     \"data/NewcastleUtd_Scouting_Data.xlsx\",\n",
    "#     \"data/NottinghamForest_Scouting_Data.xlsx\",\n",
    "#     \"data/Southampton_Scouting_Data.xlsx\",\n",
    "#     \"data/Spurs_Scouting_Data.xlsx\",\n",
    "#     \"data/WestHam_Scouting_Data.xlsx\",\n",
    "#     \"data/WolverhamptonWanderers_Scouting_Data.xlsx\",\n",
    "#     \"data/liverpool_trial_1.csv\"\n",
    "# ]\n",
    "\n",
    "# # List to hold DataFrames\n",
    "# df_list = []\n",
    "\n",
    "# # Read each file and append to the list\n",
    "# for file in input_files:\n",
    "#     if file.endswith('.xlsx'):\n",
    "#         df = pd.read_excel(file)\n",
    "#     elif file.endswith('.csv'):\n",
    "#         df = pd.read_csv(file)\n",
    "#     df_list.append(df)\n",
    "# combined_df = pd.concat(df_list, ignore_index=True)\n",
    "\n",
    "# # Split into goalkeeper and outfield player data frames\n",
    "# gk_df = combined_df[combined_df['Versus'] == 'Goalkeepers']\n",
    "# outfield_df = combined_df[combined_df['Versus'] != 'Goalkeepers']\n",
    "\n",
    "# gk_df = create_pivot_table(gk_df)\n",
    "# outfield_df = create_pivot_table(outfield_df)\n",
    "\n",
    "# gk_df.to_csv(\"transformed_data/goalkeeper_stats.csv\", index=False)\n",
    "# outfield_df.to_csv(\"transformed_data/outfield_stats.csv\", index=False)"
   ]
  },
  {
   "cell_type": "code",
   "execution_count": 170,
   "metadata": {},
   "outputs": [
    {
     "name": "stdout",
     "output_type": "stream",
     "text": [
      "Number of goalkeeper records: 362\n",
      "Number of outfield player records: 3958\n"
     ]
    }
   ],
   "source": [
    "gk_df = pd.read_csv(\"transformed_data/goalkeeper_stats.csv\")\n",
    "outfield_df = pd.read_csv(\"transformed_data/outfield_stats.csv\")\n",
    "print(f\"Number of goalkeeper records: {len(gk_df)}\")\n",
    "print(f\"Number of outfield player records: {len(outfield_df)}\")"
   ]
  },
  {
   "cell_type": "code",
   "execution_count": 171,
   "metadata": {},
   "outputs": [
    {
     "data": {
      "text/html": [
       "<div>\n",
       "<style scoped>\n",
       "    .dataframe tbody tr th:only-of-type {\n",
       "        vertical-align: middle;\n",
       "    }\n",
       "\n",
       "    .dataframe tbody tr th {\n",
       "        vertical-align: top;\n",
       "    }\n",
       "\n",
       "    .dataframe thead th {\n",
       "        text-align: right;\n",
       "    }\n",
       "</style>\n",
       "<table border=\"1\" class=\"dataframe\">\n",
       "  <thead>\n",
       "    <tr style=\"text-align: right;\">\n",
       "      <th></th>\n",
       "      <th>Player</th>\n",
       "      <th>Versus</th>\n",
       "      <th>BasedOnMinutes</th>\n",
       "      <th>scouting_period</th>\n",
       "      <th>Per90_Average Pass Length</th>\n",
       "      <th>Per90_Avg. Distance of Def. Actions</th>\n",
       "      <th>Per90_Avg. Length of Goal Kicks</th>\n",
       "      <th>Per90_Clean Sheet Percentage</th>\n",
       "      <th>Per90_Clean Sheets</th>\n",
       "      <th>Per90_Corner Kick Goals Against</th>\n",
       "      <th>...</th>\n",
       "      <th>Percentile_Penalty Kicks Attempted</th>\n",
       "      <th>Percentile_Penalty Kicks Missed</th>\n",
       "      <th>Percentile_Penalty Kicks Saved</th>\n",
       "      <th>Percentile_Post-Shot Expected Goals</th>\n",
       "      <th>Percentile_Save Percentage</th>\n",
       "      <th>Percentile_Save% (Penalty Kicks)</th>\n",
       "      <th>Percentile_Saves</th>\n",
       "      <th>Percentile_Shots on Target Against</th>\n",
       "      <th>Percentile_Throws Attempted</th>\n",
       "      <th>Percentile_Wins</th>\n",
       "    </tr>\n",
       "  </thead>\n",
       "  <tbody>\n",
       "    <tr>\n",
       "      <th>0</th>\n",
       "      <td>Aaron Ramsdale</td>\n",
       "      <td>Goalkeepers</td>\n",
       "      <td>300</td>\n",
       "      <td>2022-2023 Europa League</td>\n",
       "      <td>38.2</td>\n",
       "      <td>17.5</td>\n",
       "      <td>65.0</td>\n",
       "      <td>33.3</td>\n",
       "      <td>0.33</td>\n",
       "      <td>0.33</td>\n",
       "      <td>...</td>\n",
       "      <td>21.0</td>\n",
       "      <td>49.0</td>\n",
       "      <td>46.0</td>\n",
       "      <td>79.0</td>\n",
       "      <td>28.0</td>\n",
       "      <td>NaN</td>\n",
       "      <td>13.0</td>\n",
       "      <td>16.0</td>\n",
       "      <td>48.0</td>\n",
       "      <td>45.0</td>\n",
       "    </tr>\n",
       "    <tr>\n",
       "      <th>1</th>\n",
       "      <td>Aaron Ramsdale</td>\n",
       "      <td>Goalkeepers</td>\n",
       "      <td>540</td>\n",
       "      <td>2023-2024 Premier League</td>\n",
       "      <td>33.3</td>\n",
       "      <td>14.6</td>\n",
       "      <td>41.4</td>\n",
       "      <td>33.3</td>\n",
       "      <td>0.33</td>\n",
       "      <td>0.17</td>\n",
       "      <td>...</td>\n",
       "      <td>6.0</td>\n",
       "      <td>45.0</td>\n",
       "      <td>41.0</td>\n",
       "      <td>98.0</td>\n",
       "      <td>23.0</td>\n",
       "      <td>NaN</td>\n",
       "      <td>5.0</td>\n",
       "      <td>5.0</td>\n",
       "      <td>63.0</td>\n",
       "      <td>98.0</td>\n",
       "    </tr>\n",
       "    <tr>\n",
       "      <th>2</th>\n",
       "      <td>Aaron Ramsdale</td>\n",
       "      <td>Goalkeepers</td>\n",
       "      <td>1260</td>\n",
       "      <td>2024-2025 Premier League</td>\n",
       "      <td>33.5</td>\n",
       "      <td>12.2</td>\n",
       "      <td>45.3</td>\n",
       "      <td>14.3</td>\n",
       "      <td>0.14</td>\n",
       "      <td>0.50</td>\n",
       "      <td>...</td>\n",
       "      <td>66.0</td>\n",
       "      <td>50.0</td>\n",
       "      <td>38.0</td>\n",
       "      <td>9.0</td>\n",
       "      <td>41.0</td>\n",
       "      <td>38.0</td>\n",
       "      <td>95.0</td>\n",
       "      <td>98.0</td>\n",
       "      <td>77.0</td>\n",
       "      <td>9.0</td>\n",
       "    </tr>\n",
       "    <tr>\n",
       "      <th>3</th>\n",
       "      <td>Aaron Ramsdale</td>\n",
       "      <td>Goalkeepers</td>\n",
       "      <td>1350</td>\n",
       "      <td>Last 365 Days Men's Big 5 Leagues, UCL, UEL</td>\n",
       "      <td>34.4</td>\n",
       "      <td>11.4</td>\n",
       "      <td>44.8</td>\n",
       "      <td>13.3</td>\n",
       "      <td>0.13</td>\n",
       "      <td>0.47</td>\n",
       "      <td>...</td>\n",
       "      <td>44.0</td>\n",
       "      <td>40.0</td>\n",
       "      <td>27.0</td>\n",
       "      <td>1.0</td>\n",
       "      <td>39.0</td>\n",
       "      <td>27.0</td>\n",
       "      <td>98.0</td>\n",
       "      <td>98.0</td>\n",
       "      <td>81.0</td>\n",
       "      <td>5.0</td>\n",
       "    </tr>\n",
       "    <tr>\n",
       "      <th>4</th>\n",
       "      <td>Aaron Ramsdale</td>\n",
       "      <td>Goalkeepers</td>\n",
       "      <td>3060</td>\n",
       "      <td>2021-2022 Premier League</td>\n",
       "      <td>33.2</td>\n",
       "      <td>16.4</td>\n",
       "      <td>55.1</td>\n",
       "      <td>35.3</td>\n",
       "      <td>0.35</td>\n",
       "      <td>0.09</td>\n",
       "      <td>...</td>\n",
       "      <td>73.0</td>\n",
       "      <td>90.0</td>\n",
       "      <td>37.0</td>\n",
       "      <td>71.0</td>\n",
       "      <td>75.0</td>\n",
       "      <td>37.0</td>\n",
       "      <td>33.0</td>\n",
       "      <td>21.0</td>\n",
       "      <td>63.0</td>\n",
       "      <td>90.0</td>\n",
       "    </tr>\n",
       "  </tbody>\n",
       "</table>\n",
       "<p>5 rows × 74 columns</p>\n",
       "</div>"
      ],
      "text/plain": [
       "           Player       Versus  BasedOnMinutes  \\\n",
       "0  Aaron Ramsdale  Goalkeepers             300   \n",
       "1  Aaron Ramsdale  Goalkeepers             540   \n",
       "2  Aaron Ramsdale  Goalkeepers            1260   \n",
       "3  Aaron Ramsdale  Goalkeepers            1350   \n",
       "4  Aaron Ramsdale  Goalkeepers            3060   \n",
       "\n",
       "                               scouting_period  Per90_Average Pass Length  \\\n",
       "0                      2022-2023 Europa League                       38.2   \n",
       "1                     2023-2024 Premier League                       33.3   \n",
       "2                     2024-2025 Premier League                       33.5   \n",
       "3  Last 365 Days Men's Big 5 Leagues, UCL, UEL                       34.4   \n",
       "4                     2021-2022 Premier League                       33.2   \n",
       "\n",
       "   Per90_Avg. Distance of Def. Actions  Per90_Avg. Length of Goal Kicks  \\\n",
       "0                                 17.5                             65.0   \n",
       "1                                 14.6                             41.4   \n",
       "2                                 12.2                             45.3   \n",
       "3                                 11.4                             44.8   \n",
       "4                                 16.4                             55.1   \n",
       "\n",
       "   Per90_Clean Sheet Percentage  Per90_Clean Sheets  \\\n",
       "0                          33.3                0.33   \n",
       "1                          33.3                0.33   \n",
       "2                          14.3                0.14   \n",
       "3                          13.3                0.13   \n",
       "4                          35.3                0.35   \n",
       "\n",
       "   Per90_Corner Kick Goals Against  ...  Percentile_Penalty Kicks Attempted  \\\n",
       "0                             0.33  ...                                21.0   \n",
       "1                             0.17  ...                                 6.0   \n",
       "2                             0.50  ...                                66.0   \n",
       "3                             0.47  ...                                44.0   \n",
       "4                             0.09  ...                                73.0   \n",
       "\n",
       "   Percentile_Penalty Kicks Missed  Percentile_Penalty Kicks Saved  \\\n",
       "0                             49.0                            46.0   \n",
       "1                             45.0                            41.0   \n",
       "2                             50.0                            38.0   \n",
       "3                             40.0                            27.0   \n",
       "4                             90.0                            37.0   \n",
       "\n",
       "   Percentile_Post-Shot Expected Goals  Percentile_Save Percentage  \\\n",
       "0                                 79.0                        28.0   \n",
       "1                                 98.0                        23.0   \n",
       "2                                  9.0                        41.0   \n",
       "3                                  1.0                        39.0   \n",
       "4                                 71.0                        75.0   \n",
       "\n",
       "   Percentile_Save% (Penalty Kicks)  Percentile_Saves  \\\n",
       "0                               NaN              13.0   \n",
       "1                               NaN               5.0   \n",
       "2                              38.0              95.0   \n",
       "3                              27.0              98.0   \n",
       "4                              37.0              33.0   \n",
       "\n",
       "   Percentile_Shots on Target Against  Percentile_Throws Attempted  \\\n",
       "0                                16.0                         48.0   \n",
       "1                                 5.0                         63.0   \n",
       "2                                98.0                         77.0   \n",
       "3                                98.0                         81.0   \n",
       "4                                21.0                         63.0   \n",
       "\n",
       "   Percentile_Wins  \n",
       "0             45.0  \n",
       "1             98.0  \n",
       "2              9.0  \n",
       "3              5.0  \n",
       "4             90.0  \n",
       "\n",
       "[5 rows x 74 columns]"
      ]
     },
     "execution_count": 171,
     "metadata": {},
     "output_type": "execute_result"
    }
   ],
   "source": [
    "gk_df.head()"
   ]
  },
  {
   "cell_type": "code",
   "execution_count": 172,
   "metadata": {},
   "outputs": [
    {
     "data": {
      "text/html": [
       "<div>\n",
       "<style scoped>\n",
       "    .dataframe tbody tr th:only-of-type {\n",
       "        vertical-align: middle;\n",
       "    }\n",
       "\n",
       "    .dataframe tbody tr th {\n",
       "        vertical-align: top;\n",
       "    }\n",
       "\n",
       "    .dataframe thead th {\n",
       "        text-align: right;\n",
       "    }\n",
       "</style>\n",
       "<table border=\"1\" class=\"dataframe\">\n",
       "  <thead>\n",
       "    <tr style=\"text-align: right;\">\n",
       "      <th></th>\n",
       "      <th>Player</th>\n",
       "      <th>Versus</th>\n",
       "      <th>BasedOnMinutes</th>\n",
       "      <th>scouting_period</th>\n",
       "      <th>Per90_% of Aerials Won</th>\n",
       "      <th>Per90_% of Dribblers Tackled</th>\n",
       "      <th>Per90_Aerials Lost</th>\n",
       "      <th>Per90_Aerials Won</th>\n",
       "      <th>Per90_Assists</th>\n",
       "      <th>Per90_Average Shot Distance</th>\n",
       "      <th>...</th>\n",
       "      <th>Percentile_Touches (Def Pen)</th>\n",
       "      <th>Percentile_Touches (Live-Ball)</th>\n",
       "      <th>Percentile_Touches (Mid 3rd)</th>\n",
       "      <th>Percentile_Yellow Cards</th>\n",
       "      <th>Percentile_npxG + xAG</th>\n",
       "      <th>Percentile_npxG/Shot</th>\n",
       "      <th>Percentile_npxG: Non-Penalty xG</th>\n",
       "      <th>Percentile_xA: Expected Assists</th>\n",
       "      <th>Percentile_xAG: Exp. Assisted Goals</th>\n",
       "      <th>Percentile_xG: Expected Goals</th>\n",
       "    </tr>\n",
       "  </thead>\n",
       "  <tbody>\n",
       "    <tr>\n",
       "      <th>0</th>\n",
       "      <td>Aaron Cresswell</td>\n",
       "      <td>Center Backs</td>\n",
       "      <td>3069</td>\n",
       "      <td>2017-2018 Premier League</td>\n",
       "      <td>54.8</td>\n",
       "      <td>63.3</td>\n",
       "      <td>1.38</td>\n",
       "      <td>1.67</td>\n",
       "      <td>0.21</td>\n",
       "      <td>28.7</td>\n",
       "      <td>...</td>\n",
       "      <td>3.0</td>\n",
       "      <td>64.0</td>\n",
       "      <td>63.0</td>\n",
       "      <td>31.0</td>\n",
       "      <td>80.0</td>\n",
       "      <td>8.0</td>\n",
       "      <td>23.0</td>\n",
       "      <td>92.0</td>\n",
       "      <td>96.0</td>\n",
       "      <td>23.0</td>\n",
       "    </tr>\n",
       "    <tr>\n",
       "      <th>1</th>\n",
       "      <td>Aaron Cresswell</td>\n",
       "      <td>Fullbacks</td>\n",
       "      <td>416</td>\n",
       "      <td>2023-2024 Europa League</td>\n",
       "      <td>50.0</td>\n",
       "      <td>66.7</td>\n",
       "      <td>1.30</td>\n",
       "      <td>1.30</td>\n",
       "      <td>0.00</td>\n",
       "      <td>15.5</td>\n",
       "      <td>...</td>\n",
       "      <td>37.0</td>\n",
       "      <td>67.0</td>\n",
       "      <td>69.0</td>\n",
       "      <td>46.0</td>\n",
       "      <td>26.0</td>\n",
       "      <td>78.0</td>\n",
       "      <td>36.0</td>\n",
       "      <td>47.0</td>\n",
       "      <td>31.0</td>\n",
       "      <td>35.0</td>\n",
       "    </tr>\n",
       "    <tr>\n",
       "      <th>2</th>\n",
       "      <td>Aaron Cresswell</td>\n",
       "      <td>Fullbacks</td>\n",
       "      <td>517</td>\n",
       "      <td>2022-2023 Europa Conference League</td>\n",
       "      <td>22.2</td>\n",
       "      <td>80.0</td>\n",
       "      <td>1.22</td>\n",
       "      <td>0.35</td>\n",
       "      <td>0.35</td>\n",
       "      <td>25.0</td>\n",
       "      <td>...</td>\n",
       "      <td>39.0</td>\n",
       "      <td>77.0</td>\n",
       "      <td>90.0</td>\n",
       "      <td>20.0</td>\n",
       "      <td>49.0</td>\n",
       "      <td>24.0</td>\n",
       "      <td>12.0</td>\n",
       "      <td>65.0</td>\n",
       "      <td>67.0</td>\n",
       "      <td>12.0</td>\n",
       "    </tr>\n",
       "    <tr>\n",
       "      <th>3</th>\n",
       "      <td>Aaron Cresswell</td>\n",
       "      <td>Fullbacks</td>\n",
       "      <td>664</td>\n",
       "      <td>Last 365 Days Men's Big 5 Leagues, UCL, UEL</td>\n",
       "      <td>52.9</td>\n",
       "      <td>83.3</td>\n",
       "      <td>1.08</td>\n",
       "      <td>1.22</td>\n",
       "      <td>0.00</td>\n",
       "      <td>23.6</td>\n",
       "      <td>...</td>\n",
       "      <td>66.0</td>\n",
       "      <td>49.0</td>\n",
       "      <td>41.0</td>\n",
       "      <td>25.0</td>\n",
       "      <td>32.0</td>\n",
       "      <td>72.0</td>\n",
       "      <td>32.0</td>\n",
       "      <td>45.0</td>\n",
       "      <td>45.0</td>\n",
       "      <td>32.0</td>\n",
       "    </tr>\n",
       "    <tr>\n",
       "      <th>4</th>\n",
       "      <td>Aaron Cresswell</td>\n",
       "      <td>Fullbacks</td>\n",
       "      <td>696</td>\n",
       "      <td>2021-2022 Europa League</td>\n",
       "      <td>55.6</td>\n",
       "      <td>44.4</td>\n",
       "      <td>0.52</td>\n",
       "      <td>0.65</td>\n",
       "      <td>0.26</td>\n",
       "      <td>20.1</td>\n",
       "      <td>...</td>\n",
       "      <td>34.0</td>\n",
       "      <td>89.0</td>\n",
       "      <td>76.0</td>\n",
       "      <td>58.0</td>\n",
       "      <td>95.0</td>\n",
       "      <td>50.0</td>\n",
       "      <td>26.0</td>\n",
       "      <td>99.0</td>\n",
       "      <td>99.0</td>\n",
       "      <td>25.0</td>\n",
       "    </tr>\n",
       "  </tbody>\n",
       "</table>\n",
       "<p>5 rows × 238 columns</p>\n",
       "</div>"
      ],
      "text/plain": [
       "            Player        Versus  BasedOnMinutes  \\\n",
       "0  Aaron Cresswell  Center Backs            3069   \n",
       "1  Aaron Cresswell     Fullbacks             416   \n",
       "2  Aaron Cresswell     Fullbacks             517   \n",
       "3  Aaron Cresswell     Fullbacks             664   \n",
       "4  Aaron Cresswell     Fullbacks             696   \n",
       "\n",
       "                               scouting_period  Per90_% of Aerials Won  \\\n",
       "0                     2017-2018 Premier League                    54.8   \n",
       "1                      2023-2024 Europa League                    50.0   \n",
       "2           2022-2023 Europa Conference League                    22.2   \n",
       "3  Last 365 Days Men's Big 5 Leagues, UCL, UEL                    52.9   \n",
       "4                      2021-2022 Europa League                    55.6   \n",
       "\n",
       "   Per90_% of Dribblers Tackled  Per90_Aerials Lost  Per90_Aerials Won  \\\n",
       "0                          63.3                1.38               1.67   \n",
       "1                          66.7                1.30               1.30   \n",
       "2                          80.0                1.22               0.35   \n",
       "3                          83.3                1.08               1.22   \n",
       "4                          44.4                0.52               0.65   \n",
       "\n",
       "   Per90_Assists  Per90_Average Shot Distance  ...  \\\n",
       "0           0.21                         28.7  ...   \n",
       "1           0.00                         15.5  ...   \n",
       "2           0.35                         25.0  ...   \n",
       "3           0.00                         23.6  ...   \n",
       "4           0.26                         20.1  ...   \n",
       "\n",
       "   Percentile_Touches (Def Pen)  Percentile_Touches (Live-Ball)  \\\n",
       "0                           3.0                            64.0   \n",
       "1                          37.0                            67.0   \n",
       "2                          39.0                            77.0   \n",
       "3                          66.0                            49.0   \n",
       "4                          34.0                            89.0   \n",
       "\n",
       "   Percentile_Touches (Mid 3rd)  Percentile_Yellow Cards  \\\n",
       "0                          63.0                     31.0   \n",
       "1                          69.0                     46.0   \n",
       "2                          90.0                     20.0   \n",
       "3                          41.0                     25.0   \n",
       "4                          76.0                     58.0   \n",
       "\n",
       "   Percentile_npxG + xAG  Percentile_npxG/Shot  \\\n",
       "0                   80.0                   8.0   \n",
       "1                   26.0                  78.0   \n",
       "2                   49.0                  24.0   \n",
       "3                   32.0                  72.0   \n",
       "4                   95.0                  50.0   \n",
       "\n",
       "   Percentile_npxG: Non-Penalty xG  Percentile_xA: Expected Assists  \\\n",
       "0                             23.0                             92.0   \n",
       "1                             36.0                             47.0   \n",
       "2                             12.0                             65.0   \n",
       "3                             32.0                             45.0   \n",
       "4                             26.0                             99.0   \n",
       "\n",
       "   Percentile_xAG: Exp. Assisted Goals  Percentile_xG: Expected Goals  \n",
       "0                                 96.0                           23.0  \n",
       "1                                 31.0                           35.0  \n",
       "2                                 67.0                           12.0  \n",
       "3                                 45.0                           32.0  \n",
       "4                                 99.0                           25.0  \n",
       "\n",
       "[5 rows x 238 columns]"
      ]
     },
     "execution_count": 172,
     "metadata": {},
     "output_type": "execute_result"
    }
   ],
   "source": [
    "outfield_df.head()"
   ]
  },
  {
   "cell_type": "markdown",
   "metadata": {},
   "source": [
    "# Split the dataset"
   ]
  },
  {
   "cell_type": "markdown",
   "metadata": {},
   "source": [
    "Split after we combine with valuation"
   ]
  },
  {
   "cell_type": "markdown",
   "metadata": {},
   "source": [
    "# Preprocessing"
   ]
  },
  {
   "cell_type": "code",
   "execution_count": 173,
   "metadata": {},
   "outputs": [
    {
     "name": "stdout",
     "output_type": "stream",
     "text": [
      "Number of outfield player records before dropping duplicates: 3958\n",
      "Number of outfield player records after dropping duplicates: 3958\n"
     ]
    }
   ],
   "source": [
    "print(f\"Number of outfield player records before dropping duplicates: {len(outfield_df)}\")\n",
    "outfield_df = outfield_df.drop_duplicates()\n",
    "print(f\"Number of outfield player records after dropping duplicates: {len(outfield_df)}\")"
   ]
  },
  {
   "cell_type": "markdown",
   "metadata": {},
   "source": [
    "Visualising and dropping rows where with players that didn't play enough for sample to be representative"
   ]
  },
  {
   "cell_type": "code",
   "execution_count": 174,
   "metadata": {},
   "outputs": [
    {
     "data": {
      "image/png": "[encoded data removed]",
      "text/plain": [
       "<Figure size 640x480 with 1 Axes>"
      ]
     },
     "metadata": {},
     "output_type": "display_data"
    }
   ],
   "source": [
    "plt.hist(outfield_df['BasedOnMinutes'].dropna(), bins=30, edgecolor='k')\n",
    "plt.xlabel('BasedOnMinutes')\n",
    "plt.ylabel('Frequency')\n",
    "plt.title('Distribution of BasedOnMinutes')\n",
    "plt.show()"
   ]
  },
  {
   "cell_type": "code",
   "execution_count": 175,
   "metadata": {},
   "outputs": [
    {
     "name": "stdout",
     "output_type": "stream",
     "text": [
      "Number of outfield outfield records before filtering: 3958\n",
      "Number of outfield outfield records after filtering: 3323\n"
     ]
    }
   ],
   "source": [
    "# Dropping all entries with BasedOnMinutes less than 450 min, playing less than 5 games\n",
    "print(f\"Number of outfield outfield records before filtering: {len(outfield_df)}\")\n",
    "outfield_df = outfield_df[outfield_df['BasedOnMinutes'] >= 450]\n",
    "print(f\"Number of outfield outfield records after filtering: {len(outfield_df)}\")"
   ]
  },
  {
   "cell_type": "markdown",
   "metadata": {},
   "source": [
    "Combining rows to ensure that one entry is tagged to only one unique player"
   ]
  },
  {
   "cell_type": "code",
   "execution_count": 176,
   "metadata": {},
   "outputs": [],
   "source": [
    "# continue with preprocessing to ensure there will only be one unique entry per player\n"
   ]
  },
  {
   "cell_type": "markdown",
   "metadata": {},
   "source": [
    "Dropping per 90 data"
   ]
  },
  {
   "cell_type": "code",
   "execution_count": 177,
   "metadata": {},
   "outputs": [
    {
     "name": "stdout",
     "output_type": "stream",
     "text": [
      "Number of columns before dropping 'Per90': 238\n",
      "Number of columns after dropping 'Per90': 121\n",
      "Number of columns dropped: 117\n"
     ]
    }
   ],
   "source": [
    "# drop per90\n",
    "\n",
    "# Initial number of columns\n",
    "initial_column_count = outfield_df.shape[1]\n",
    "\n",
    "# Drop columns with \"Per90\" in their name\n",
    "columns_to_drop = [col for col in outfield_df.columns if 'Per90' in col]\n",
    "outfield_df = outfield_df.drop(columns=columns_to_drop)\n",
    "\n",
    "# Final number of columns\n",
    "final_column_count = outfield_df.shape[1]\n",
    "columns_dropped = initial_column_count - final_column_count\n",
    "\n",
    "print(f\"Number of columns before dropping 'Per90': {initial_column_count}\")\n",
    "print(f\"Number of columns after dropping 'Per90': {final_column_count}\")\n",
    "print(f\"Number of columns dropped: {columns_dropped}\")"
   ]
  },
  {
   "cell_type": "markdown",
   "metadata": {},
   "source": [
    "Handling na values"
   ]
  },
  {
   "cell_type": "code",
   "execution_count": 178,
   "metadata": {},
   "outputs": [],
   "source": [
    "null_rows = outfield_df[outfield_df.isnull().any(axis=1)]\n",
    "null_rows.to_excel('transformed_data/null_rows.xlsx', index=False)"
   ]
  },
  {
   "cell_type": "code",
   "execution_count": 179,
   "metadata": {},
   "outputs": [],
   "source": [
    "na_columns_goal_related = ['Percentile_Goals/Shot on Target', \n",
    "                           'Percentile_npxG/Shot', \n",
    "                           'Percentile_Average Shot Distance', \n",
    "                           'Percentile_Goals/Shot', \n",
    "                           'Percentile_Shots on Target %']\n",
    "na_columns_dribble_related = ['Percentile_Successful Take-On %',\n",
    "                              'Percentile_Tackled During Take-On Percentage']\n",
    "na_columns_others = ['Percentile_% of Dribblers Tackled',\n",
    "                     'Percentile_% of Aerials Won',\n",
    "                     'Percentile_Pass Completion % (Long)']\n",
    "# Fill missing values with 0 as corresponding player is not involved in those actions, suggesting they are not good at it.\n",
    "outfield_df[na_columns_goal_related] = outfield_df[na_columns_goal_related].fillna(0)\n",
    "outfield_df[na_columns_dribble_related] = outfield_df[na_columns_dribble_related].fillna(0)\n",
    "outfield_df[na_columns_others] = outfield_df[na_columns_others].fillna(0)"
   ]
  },
  {
   "cell_type": "code",
   "execution_count": 180,
   "metadata": {},
   "outputs": [],
   "source": [
    "# # If Per90 is not dropped\n",
    "# na_columns_goal_related_per90 = ['Per90_Goals/Shot on Target', \n",
    "#                                  'Per90_npxG/Shot', \n",
    "#                                  'Per90_Average Shot Distance', \n",
    "#                                  'Per90_Goals/Shot', \n",
    "#                                  'Per90_Shots on Target %']\n",
    "# na_columns_dribble_related_per90 = ['Per90_Successful Take-On %',\n",
    "#                                     'Per90_Tackled During Take-On Percentage']\n",
    "# na_columns_dribble_related_per90 = ['Per90_% of Dribblers Tackled',\n",
    "#                                     'Per90_% of Aerials Won',\n",
    "#                                     'Per90_Pass Completion % (Long)']\n",
    "# outfield_df[na_columns_goal_related_per90] = outfield_df[na_columns_goal_related_per90].fillna(0)\n",
    "# outfield_df[na_columns_dribble_related_per90] = outfield_df[na_columns_dribble_related_per90].fillna(0)\n",
    "# outfield_df[na_columns_others] = outfield_df[na_columns_others].fillna(0)"
   ]
  },
  {
   "cell_type": "code",
   "execution_count": 181,
   "metadata": {},
   "outputs": [
    {
     "name": "stdout",
     "output_type": "stream",
     "text": [
      "Number of rows with na values: 0\n"
     ]
    }
   ],
   "source": [
    "print(f\"Number of rows with na values: {len(outfield_df[outfield_df.isnull().any(axis=1)])}\")"
   ]
  },
  {
   "cell_type": "markdown",
   "metadata": {},
   "source": [
    "Feature Scaling (Z-score, min-max, maxAbs etc.)"
   ]
  },
  {
   "cell_type": "markdown",
   "metadata": {},
   "source": [
    "Feature Engineering"
   ]
  },
  {
   "cell_type": "code",
   "execution_count": 182,
   "metadata": {},
   "outputs": [],
   "source": [
    "# Compute the Goals per Expected Goals Ratio\n",
    "outfield_df[\"Finishing_Efficiency\"] = outfield_df[\"Percentile_Goals\"] / outfield_df[\"Percentile_Goals - xG\"]\n",
    "\n",
    "# Handle cases where xG is zero (avoid division by zero)\n",
    "outfield_df[\"Finishing_Efficiency\"] = outfield_df[\"Finishing_Efficiency\"].replace(float('inf'), 0)\n",
    "\n",
    "# Drop Percentile_Goals - xG\n",
    "outfield_df = outfield_df.drop(columns=[\"Percentile_Goals - xG\"])\n",
    "\n",
    "# Compute the Assists per Expected Assists Ratio\n",
    "outfield_df[\"Assist_Efficiency\"] = outfield_df[\"Percentile_Assists\"] / outfield_df[\"Percentile_xA: Expected Assists\"]\n",
    "outfield_df[\"Assist_Efficiency\"] = outfield_df[\"Assist_Efficiency\"].replace(float('inf'), 0)\n",
    "outfield_df = outfield_df.drop(columns=[\"Percentile_xA: Expected Assists\"])"
   ]
  },
  {
   "cell_type": "markdown",
   "metadata": {},
   "source": [
    "Finding correlation between features and dropping those that are highly correlated"
   ]
  },
  {
   "cell_type": "markdown",
   "metadata": {},
   "source": [
    "Reducing Dimension"
   ]
  },
  {
   "cell_type": "code",
   "execution_count": 183,
   "metadata": {},
   "outputs": [
    {
     "name": "stdout",
     "output_type": "stream",
     "text": [
      "Number of features before PCA: 117\n",
      "Number of features after PCA: 62\n"
     ]
    },
    {
     "data": {
      "image/png": "[encoded data removed]",
      "text/plain": [
       "<Figure size 640x480 with 1 Axes>"
      ]
     },
     "metadata": {},
     "output_type": "display_data"
    }
   ],
   "source": [
    "# Specify categorical columns to keep\n",
    "non_statistical_data = [\"Player\", \"Versus\", \"BasedOnMinutes\", \"scouting_period\"]  \n",
    "\n",
    "# Separate categorical and numerical features\n",
    "kept_features_df = outfield_df[non_statistical_data].reset_index(drop=True)  # Reset index for safe merge\n",
    "features = outfield_df.drop(columns=non_statistical_data)  # Drop categorical columns for PCA\n",
    "\n",
    "# Print the number of features before PCA\n",
    "print(\"Number of features before PCA:\", features.shape[1])\n",
    "\n",
    "# Standardize numerical features before applying PCA\n",
    "scaler = StandardScaler()\n",
    "X_scaled = scaler.fit_transform(features)\n",
    "\n",
    "# Apply PCA to retain 95% variance\n",
    "pca = PCA(n_components=0.95)\n",
    "X_pca = pca.fit_transform(X_scaled)\n",
    "\n",
    "# Convert PCA output back to DataFrame\n",
    "pca_df = pd.DataFrame(X_pca, index=outfield_df.index)\n",
    "\n",
    "# Name PCA columns properly\n",
    "pca_df.columns = [f'PCA_{i+1}' for i in range(pca_df.shape[1])]\n",
    "\n",
    "# Concatenate categorical columns with PCA-transformed numerical data\n",
    "outfield_df_pca = pd.concat([kept_features_df, pca_df.reset_index(drop=True)], axis=1)\n",
    "\n",
    "# Print the number of features after PCA\n",
    "print(\"Number of features after PCA:\", pca_df.shape[1])\n",
    "\n",
    "# Plot PCA explained variance\n",
    "plt.plot(range(1, len(pca.explained_variance_ratio_)+1), pca.explained_variance_ratio_.cumsum(), marker='o')\n",
    "plt.xlabel('Number of Components')\n",
    "plt.ylabel('Cumulative Explained Variance')\n",
    "plt.title(\"PCA Explained Variance\")\n",
    "plt.show()"
   ]
  },
  {
   "cell_type": "markdown",
   "metadata": {},
   "source": [
    "Encoding Categorical Variables"
   ]
  },
  {
   "cell_type": "code",
   "execution_count": 184,
   "metadata": {},
   "outputs": [
    {
     "name": "stdout",
     "output_type": "stream",
     "text": [
      "Columns before encoding: Index(['Player', 'Versus', 'BasedOnMinutes', 'scouting_period',\n",
      "       'Percentile_% of Aerials Won', 'Percentile_% of Dribblers Tackled',\n",
      "       'Percentile_Aerials Lost', 'Percentile_Aerials Won',\n",
      "       'Percentile_Assists', 'Percentile_Average Shot Distance',\n",
      "       ...\n",
      "       'Percentile_Touches (Live-Ball)', 'Percentile_Touches (Mid 3rd)',\n",
      "       'Percentile_Yellow Cards', 'Percentile_npxG + xAG',\n",
      "       'Percentile_npxG/Shot', 'Percentile_npxG: Non-Penalty xG',\n",
      "       'Percentile_xAG: Exp. Assisted Goals', 'Percentile_xG: Expected Goals',\n",
      "       'Finishing_Efficiency', 'Assist_Efficiency'],\n",
      "      dtype='object', length=121)\n",
      "Columns after encoding: Index(['Player', 'BasedOnMinutes', 'Percentile_% of Aerials Won',\n",
      "       'Percentile_% of Dribblers Tackled', 'Percentile_Aerials Lost',\n",
      "       'Percentile_Aerials Won', 'Percentile_Assists',\n",
      "       'Percentile_Average Shot Distance', 'Percentile_Ball Recoveries',\n",
      "       'Percentile_Blocks',\n",
      "       ...\n",
      "       'scouting_period_2024-2025 Europa League',\n",
      "       'scouting_period_2024-2025 Ligue 1',\n",
      "       'scouting_period_2024-2025 Premier League',\n",
      "       'scouting_period_2024-2025 Serie A',\n",
      "       'scouting_period_Last 365 Days Men's Big 5 Leagues, UCL, UEL',\n",
      "       'scouting_period_Last 365 Days Men's Next 14 Competitions',\n",
      "       'scouting_period_vs. Center Backs', 'scouting_period_vs. Forwards',\n",
      "       'scouting_period_vs. Fullbacks', 'scouting_period_vs. Midfielders'],\n",
      "      dtype='object', length=269)\n"
     ]
    }
   ],
   "source": [
    "print(\"Columns before encoding:\", outfield_df.columns)\n",
    "outfield_df = pd.get_dummies(outfield_df, columns=['Versus', 'scouting_period'])\n",
    "print(\"Columns after encoding:\", outfield_df.columns)"
   ]
  },
  {
   "cell_type": "markdown",
   "metadata": {},
   "source": [
    "Others (Removing outliers)"
   ]
  },
  {
   "cell_type": "markdown",
   "metadata": {},
   "source": [
    "# Clustering"
   ]
  },
  {
   "cell_type": "markdown",
   "metadata": {},
   "source": [
    "## K Means"
   ]
  },
  {
   "cell_type": "code",
   "execution_count": 186,
   "metadata": {},
   "outputs": [
    {
     "name": "stdout",
     "output_type": "stream",
     "text": [
      "Custom Initial Cluster Centers:\n",
      " [[ 0.17241853 -0.11508407  0.01768353 ... -0.03471574 -0.01735003\n",
      "  -0.01735003]\n",
      " [ 0.19960855  0.16555386 -0.4156766  ... -0.03471574 -0.01735003\n",
      "  -0.01735003]\n",
      " [ 0.05538414  0.05538575  0.05865607 ... -0.03471574 -0.01735003\n",
      "  -0.01735003]\n",
      " ...\n",
      " [ 0.093386   -0.03087767  0.22871986 ... -0.03471574 -0.01735003\n",
      "  -0.01735003]\n",
      " [ 0.01201247 -0.09549782  0.02885005 ... -0.03471574 -0.01735003\n",
      "  -0.01735003]\n",
      " [ 0.00117508  0.0553359   0.37869712 ... -0.03471574 -0.01735003\n",
      "  -0.01735003]]\n"
     ]
    },
    {
     "data": {
      "image/png": "[encoded data removed]",
      "text/plain": [
       "<Figure size 2000x500 with 4 Axes>"
      ]
     },
     "metadata": {},
     "output_type": "display_data"
    },
    {
     "name": "stdout",
     "output_type": "stream",
     "text": [
      "Best k according to Elbow Method: 7\n",
      "Best k according to Silhouette Score: 2\n",
      "Best k according to Davies-Bouldin Score: 18\n",
      "Best k according to Calinski-Harabasz Score: 2\n"
     ]
    }
   ],
   "source": [
    "import numpy as np\n",
    "import pandas as pd\n",
    "import matplotlib.pyplot as plt\n",
    "from sklearn.cluster import KMeans\n",
    "from sklearn.preprocessing import StandardScaler\n",
    "from sklearn.metrics import silhouette_score, davies_bouldin_score, calinski_harabasz_score\n",
    "\n",
    "# Select features for clustering (exclude categorical columns)\n",
    "features = outfield_df.drop(columns=['Player', 'BasedOnMinutes'])\n",
    "\n",
    "# Standardize the data\n",
    "scaler = StandardScaler()\n",
    "scaled_features = scaler.fit_transform(features)\n",
    "\n",
    "# Ensure selected players exist before computing centroids\n",
    "selected_players = [\"Kevin De Bruyne\", \"Virgil van Dijk\", \"Erling Haaland\"]\n",
    "existing_players = outfield_df[outfield_df[\"Player\"].isin(selected_players)].copy()\n",
    "\n",
    "if len(existing_players) < len(selected_players):\n",
    "    print(f\"Warning: Not all selected players exist in dataset! Found {len(existing_players)}.\")\n",
    "\n",
    "# Drop categorical columns from existing players\n",
    "numeric_features = existing_players.drop(columns=['Player', 'BasedOnMinutes'])\n",
    "\n",
    "# Standardize existing player stats **before computing centroids**\n",
    "scaled_existing_players = scaler.transform(numeric_features)\n",
    "\n",
    "# Compute centroid values for known archetypes\n",
    "centroids = np.array(scaled_existing_players)\n",
    "\n",
    "# Fit KMeans using expert-chosen centroids\n",
    "k_means = KMeans(n_clusters=centroids.shape[0], init=centroids, n_init=1, random_state=42)\n",
    "k_means.fit(scaled_features)\n",
    "\n",
    "# Get cluster labels\n",
    "labels = k_means.labels_\n",
    "print(\"Custom Initial Cluster Centers:\\n\", k_means.cluster_centers_)\n",
    "\n",
    "# Range of k values to try\n",
    "k_values = range(2, 20)\n",
    "inertia = []\n",
    "silhouette_scores = []\n",
    "davies_bouldin_scores = []\n",
    "calinski_harabasz_scores = []\n",
    "\n",
    "# Loop through different values of k\n",
    "for k in k_values:\n",
    "    k_means = KMeans(n_clusters=k, random_state=42, n_init=10, init='k-means++')\n",
    "    k_means.fit(scaled_features)\n",
    "    labels = k_means.labels_\n",
    "    \n",
    "    inertia.append(k_means.inertia_)\n",
    "    silhouette_scores.append(silhouette_score(scaled_features, labels))\n",
    "    davies_bouldin_scores.append(davies_bouldin_score(scaled_features, labels))\n",
    "    calinski_harabasz_scores.append(calinski_harabasz_score(scaled_features, labels))\n",
    "\n",
    "# Plot the evaluation metrics\n",
    "plt.figure(figsize=(20, 5))\n",
    "\n",
    "# Plot the inertia values (Elbow Method)\n",
    "plt.subplot(1, 4, 1)\n",
    "plt.plot(k_values, inertia, marker='o')\n",
    "plt.title('Elbow Method for Optimal k')\n",
    "plt.xlabel('Number of Clusters (k)')\n",
    "plt.ylabel('Inertia')\n",
    "plt.xticks(k_values)\n",
    "plt.grid(True)\n",
    "\n",
    "# Plot the silhouette scores\n",
    "plt.subplot(1, 4, 2)\n",
    "plt.plot(k_values, silhouette_scores, marker='o')\n",
    "plt.title('Silhouette Scores for Different Values of k')\n",
    "plt.xlabel('Number of Clusters (k)')\n",
    "plt.ylabel('Silhouette Score')\n",
    "plt.xticks(k_values)\n",
    "plt.grid(True)\n",
    "\n",
    "# Plot the Davies-Bouldin scores\n",
    "plt.subplot(1, 4, 3)\n",
    "plt.plot(k_values, davies_bouldin_scores, marker='o')\n",
    "plt.title('Davies-Bouldin Scores for Different Values of k')\n",
    "plt.xlabel('Number of Clusters (k)')\n",
    "plt.ylabel('Davies-Bouldin Score')\n",
    "plt.xticks(k_values)\n",
    "plt.grid(True)\n",
    "\n",
    "# Plot the Calinski-Harabasz scores\n",
    "plt.subplot(1, 4, 4)\n",
    "plt.plot(k_values, calinski_harabasz_scores, marker='o')\n",
    "plt.title('Calinski-Harabasz Scores for Different Values of k')\n",
    "plt.xlabel('Number of Clusters (k)')\n",
    "plt.ylabel('Calinski-Harabasz Score')\n",
    "plt.xticks(k_values)\n",
    "plt.grid(True)\n",
    "\n",
    "plt.tight_layout()\n",
    "plt.show()\n",
    "\n",
    "# Function to find the elbow point\n",
    "def find_elbow_point(inertia):\n",
    "    diff = np.diff(inertia)\n",
    "    diff_r = diff[1:] / diff[:-1]\n",
    "    elbow_point = np.argmin(diff_r) + 2  # +2 because diff reduces the length by 1 and we start from k=2\n",
    "    return elbow_point\n",
    "\n",
    "# Find the best k for each metric\n",
    "best_k_elbow = find_elbow_point(inertia)\n",
    "best_k_silhouette = k_values[np.argmax(silhouette_scores)]\n",
    "best_k_davies_bouldin = k_values[np.argmin(davies_bouldin_scores)]\n",
    "best_k_calinski_harabasz = k_values[np.argmax(calinski_harabasz_scores)]\n",
    "\n",
    "print(f\"Best k according to Elbow Method: {best_k_elbow}\")\n",
    "print(f\"Best k according to Silhouette Score: {best_k_silhouette}\")\n",
    "print(f\"Best k according to Davies-Bouldin Score: {best_k_davies_bouldin}\")\n",
    "print(f\"Best k according to Calinski-Harabasz Score: {best_k_calinski_harabasz}\")"
   ]
  },
  {
   "cell_type": "markdown",
   "metadata": {},
   "source": [
    "# Classification"
   ]
  },
  {
   "cell_type": "markdown",
   "metadata": {},
   "source": [
    "## KNN"
   ]
  },
  {
   "cell_type": "code",
   "execution_count": null,
   "metadata": {},
   "outputs": [],
   "source": [
    "# Manually specify certain players and their archetypes\n",
    "player_archetypes = {\n",
    "    'Trent Alexander-Arnold' : 'Wing Back'\n",
    "}\n",
    "\n",
    "# Add a new column for archetypes and label the specified players\n",
    "outfield_df['Archetype'] = outfield_df['Player'].map(player_archetypes)\n",
    "\n",
    "# Separate the labeled and un_labelled data\n",
    "labeled_data = outfield_df.dropna(subset=['Archetype']).copy()\n",
    "un_labelled_data = outfield_df[outfield_df['Archetype'].isna()].copy()\n",
    "\n",
    "# continue..."
   ]
  }
 ],
 "metadata": {
  "kernelspec": {
   "display_name": "python-3.13",
   "language": "python",
   "name": "python3"
  },
  "language_info": {
   "codemirror_mode": {
    "name": "ipython",
    "version": 3
   },
   "file_extension": ".py",
   "mimetype": "text/x-python",
   "name": "python",
   "nbconvert_exporter": "python",
   "pygments_lexer": "ipython3",
   "version": "3.13.1"
  }
 },
 "nbformat": 4,
 "nbformat_minor": 2
}
