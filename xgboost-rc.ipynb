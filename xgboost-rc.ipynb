{
 "cells": [
  {
   "cell_type": "code",
   "execution_count": 15,
   "id": "cfcc20f3",
   "metadata": {},
   "outputs": [],
   "source": [
    "import os\n",
    "os.environ['MPLBACKEND'] = 'Agg'  # Use Agg as a safe default\n",
    "import matplotlib.pyplot as plt\n",
    "\n",
    "\n",
    "# Import Required Libraries\n",
    "import pandas as pd\n",
    "import numpy as np\n",
    "from sklearn.model_selection import train_test_split\n",
    "from sklearn.ensemble import RandomForestRegressor\n",
    "from sklearn.metrics import mean_absolute_error, mean_squared_error, r2_score\n",
    "import seaborn as sns\n",
    "import xgboost as xgb\n",
    "from sklearn.preprocessing import StandardScaler\n",
    "\n",
    "# Load the Dataset\n",
    "file_path = \"preprocessed_data/outfield_processed.csv\"  \n",
    "df = pd.read_csv(file_path)\n",
    "\n",
    "# Prepare features and target\n",
    "X = df.drop(columns=[\"Player\", \"player_market_value_euro\"], errors=\"ignore\")  \n",
    "y = df[\"player_market_value_euro\"]\n",
    "\n",
    "# Split the data\n",
    "X_train, X_test, y_train, y_test = train_test_split(X, y, test_size=0.2, random_state=42)\n",
    "\n",
    "# Scale the features\n",
    "scaler = StandardScaler()\n",
    "X_train_scaled = scaler.fit_transform(X_train)\n",
    "X_test_scaled = scaler.transform(X_test)\n",
    "\n",
    "# Create and train XGBoost model\n",
    "xgb_model = xgb.XGBRegressor(\n",
    "    objective='reg:squarederror',\n",
    "    n_estimators=100,\n",
    "    learning_rate=0.1,\n",
    "    max_depth=6,\n",
    "    min_child_weight=1,\n",
    "    subsample=0.8,\n",
    "    colsample_bytree=0.8,\n",
    "    random_state=42\n",
    ")\n",
    "\n",
    "xgb_model.fit(X_train_scaled, y_train)\n",
    "\n",
    "# Make predictions\n",
    "y_pred = xgb_model.predict(X_test_scaled)"
   ]
  },
  {
   "cell_type": "code",
   "execution_count": 21,
   "id": "10225cf9",
   "metadata": {},
   "outputs": [
    {
     "name": "stdout",
     "output_type": "stream",
     "text": [
      "\n",
      "📊 Model Performance Metrics:\n",
      "📌 Mean Absolute Error (MAE): 3557733.36\n",
      "📌 Mean Squared Error (MSE): 31139524655097.67\n",
      "📌 Root Mean Squared Error (RMSE): 5580279.98\n",
      "📌 Mean Absolute Percentage Error: 86.95\n",
      "📌 R² Score: 0.95\n",
      "\n",
      "🔍 Top 10 Most Important Features:\n",
      "Per90_Progressive Passes Rec: 0.1112\n",
      "Per90_Passes Received: 0.0591\n",
      "Per90_SCA (Live-ball Pass): 0.0539\n",
      "Per90_GCA (Live-ball Pass): 0.0474\n",
      "Per90_Clearances: 0.0427\n",
      "Per90_Goals + Assists: 0.0351\n",
      "Per90_Goal-Creating Actions: 0.0329\n",
      "Progressive_Play: 0.0328\n",
      "Per90_Touches (Att 3rd): 0.0315\n",
      "Per90_Shot-Creating Actions: 0.0253\n"
     ]
    }
   ],
   "source": [
    "# Evaluate Model Performance\n",
    "mae = mean_absolute_error(y_test, y_pred)\n",
    "mse = mean_squared_error(y_test, y_pred)\n",
    "r2 = r2_score(y_test, y_pred)\n",
    "mape = np.mean(np.abs((y_test - y_pred) / y_test)) * 100  # Calculate MAPE\n",
    "rmse = np.sqrt(mse)\n",
    "\n",
    "print(f\"\\n📊 Model Performance Metrics:\")\n",
    "print(f\"📌 Mean Absolute Error (MAE): {mae:.2f}\")\n",
    "print(f\"📌 Mean Squared Error (MSE): {mse:.2f}\")\n",
    "print(f\"📌 Root Mean Squared Error (RMSE): {rmse:.2f}\")\n",
    "print(f\"📌 Mean Absolute Percentage Error: {mape:.2f}\")\n",
    "print(f\"📌 R² Score: {r2:.2f}\")\n",
    "\n",
    "# Feature Importance using XGBoost model\n",
    "feature_importance = pd.DataFrame({\n",
    "    'feature': X.columns,\n",
    "    'importance': xgb_model.feature_importances_\n",
    "})\n",
    "feature_importance = feature_importance.sort_values('importance', ascending=False)\n",
    "\n",
    "# Print top 10 most important features with their importance scores\n",
    "print(\"\\n🔍 Top 10 Most Important Features:\")\n",
    "for idx, row in feature_importance.head(10).iterrows():\n",
    "    print(f\"{row['feature']}: {row['importance']:.4f}\")"
   ]
  },
  {
   "cell_type": "code",
   "execution_count": null,
   "id": "eeae5dff",
   "metadata": {},
   "outputs": [],
   "source": []
  }
 ],
 "metadata": {
  "kernelspec": {
   "display_name": "python-3.13",
   "language": "python",
   "name": "python3"
  },
  "language_info": {
   "codemirror_mode": {
    "name": "ipython",
    "version": 3
   },
   "file_extension": ".py",
   "mimetype": "text/x-python",
   "name": "python",
   "nbconvert_exporter": "python",
   "pygments_lexer": "ipython3",
   "version": "3.13.1"
  }
 },
 "nbformat": 4,
 "nbformat_minor": 5
}
