{
 "cells": [
  {
   "cell_type": "code",
   "execution_count": 9,
   "id": "cfcc20f3",
   "metadata": {},
   "outputs": [
    {
     "name": "stdout",
     "output_type": "stream",
     "text": [
      "📌 Mean Absolute Error (MAE): 15687710.53\n",
      "📌 Mean Squared Error (MSE): 704676353973684.25\n",
      "📌 R² Score: -0.05\n"
     ]
    }
   ],
   "source": [
    "# Import Required Libraries\n",
    "import pandas as pd\n",
    "import numpy as np\n",
    "from sklearn.model_selection import train_test_split\n",
    "from sklearn.ensemble import RandomForestRegressor\n",
    "from sklearn.metrics import mean_absolute_error, mean_squared_error, r2_score\n",
    "\n",
    "# Load the Dataset\n",
    "file_path = \"preprocessed_data/defenders_processed.csv\"  \n",
    "df = pd.read_csv(file_path)\n",
    "\n",
    "# Define Features (X) and Target (y)\n",
    "X = df.drop(columns=[\"Player\", \"player_market_value_euro\"], errors=\"ignore\")  \n",
    "y = df[\"player_market_value_euro\"]\n",
    "\n",
    "# Split Data into Training and Testing Sets (80-20 split)\n",
    "X_train, X_test, y_train, y_test = train_test_split(X, y, test_size=0.2, random_state=42)\n",
    "\n",
    "# Train the Random Forest Model\n",
    "rf_model = RandomForestRegressor(n_estimators=100, random_state=42)\n",
    "rf_model.fit(X_train, y_train)\n",
    "\n",
    "# Make Predictions\n",
    "y_pred = rf_model.predict(X_test)\n",
    "\n",
    "# Evaluate Model Performance\n",
    "mae = mean_absolute_error(y_test, y_pred)\n",
    "mse = mean_squared_error(y_test, y_pred)\n",
    "r2 = r2_score(y_test, y_pred)\n",
    "\n",
    "print(f\"📌 Mean Absolute Error (MAE): {mae:.2f}\")\n",
    "print(f\"📌 Mean Squared Error (MSE): {mse:.2f}\")\n",
    "print(f\"📌 R² Score: {r2:.2f}\")\n",
    "\n"
   ]
  },
  {
   "cell_type": "code",
   "execution_count": null,
   "id": "fb1b9f8e",
   "metadata": {},
   "outputs": [],
   "source": []
  }
 ],
 "metadata": {
  "kernelspec": {
   "display_name": "Python 3 (ipykernel)",
   "language": "python",
   "name": "python3"
  },
  "language_info": {
   "codemirror_mode": {
    "name": "ipython",
    "version": 3
   },
   "file_extension": ".py",
   "mimetype": "text/x-python",
   "name": "python",
   "nbconvert_exporter": "python",
   "pygments_lexer": "ipython3",
   "version": "3.11.5"
  }
 },
 "nbformat": 4,
 "nbformat_minor": 5
}
