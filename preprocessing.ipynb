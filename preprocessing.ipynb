{
 "cells": [
  {
   "cell_type": "code",
   "execution_count": 436,
   "metadata": {},
   "outputs": [],
   "source": [
    "# Import required libraries\n",
    "import pandas as pd\n",
    "import matplotlib.pyplot as plt\n",
    "import numpy as np\n",
    "from sklearn.preprocessing import StandardScaler\n",
    "\n",
    "# Correlation\n",
    "from scipy.stats import chi2_contingency\n",
    "import seaborn as sns\n",
    "\n",
    "# PCA\n",
    "from sklearn.decomposition import PCA\n",
    "\n",
    "# KMeans\n",
    "from sklearn.cluster import KMeans\n",
    "from sklearn.metrics import silhouette_score, davies_bouldin_score,calinski_harabasz_score \n",
    "\n",
    "# KNN\n",
    "from sklearn.model_selection import train_test_split\n",
    "from sklearn.neighbors import KNeighborsClassifier\n",
    "from sklearn.metrics import accuracy_score, classification_report\n",
    "\n",
    "# Random Forest\n",
    "from sklearn.model_selection import train_test_split\n",
    "from sklearn.ensemble import RandomForestRegressor\n",
    "from sklearn.metrics import mean_absolute_error, mean_squared_error, r2_score\n",
    "\n",
    "# fuzzy matching\n",
    "from thefuzz import process\n"
   ]
  },
  {
   "cell_type": "code",
   "execution_count": 437,
   "metadata": {},
   "outputs": [
    {
     "name": "stdout",
     "output_type": "stream",
     "text": [
      "3958\n"
     ]
    }
   ],
   "source": [
    "outfield_df = pd.read_csv(\"transformed_data/outfield_per90.csv\")\n",
    "# print number of rows in outfield_df\n",
    "print(outfield_df.shape[0])"
   ]
  },
  {
   "cell_type": "markdown",
   "metadata": {},
   "source": [
    "# Preprocessing"
   ]
  },
  {
   "cell_type": "markdown",
   "metadata": {},
   "source": [
    "Remove duplicates"
   ]
  },
  {
   "cell_type": "code",
   "execution_count": 438,
   "metadata": {},
   "outputs": [
    {
     "name": "stdout",
     "output_type": "stream",
     "text": [
      "Number of outfield player records before dropping duplicates: 3958\n",
      "Number of outfield player records after dropping duplicates: 3958\n"
     ]
    }
   ],
   "source": [
    "print(f\"Number of outfield player records before dropping duplicates: {len(outfield_df)}\")\n",
    "outfield_df = outfield_df.drop_duplicates()\n",
    "print(f\"Number of outfield player records after dropping duplicates: {len(outfield_df)}\")"
   ]
  },
  {
   "cell_type": "markdown",
   "metadata": {},
   "source": [
    "Visualising and dropping rows where with players that didn't play enough for sample to be representative"
   ]
  },
  {
   "cell_type": "code",
   "execution_count": 439,
   "metadata": {},
   "outputs": [
    {
     "data": {
      "image/png": "[encoded data removed]",
      "text/plain": [
       "<Figure size 640x480 with 1 Axes>"
      ]
     },
     "metadata": {},
     "output_type": "display_data"
    }
   ],
   "source": [
    "plt.hist(outfield_df['BasedOnMinutes'].dropna(), bins=30, edgecolor='k')\n",
    "plt.xlabel('BasedOnMinutes')\n",
    "plt.ylabel('Frequency')\n",
    "plt.title('Distribution of BasedOnMinutes')\n",
    "plt.show()"
   ]
  },
  {
   "cell_type": "code",
   "execution_count": 440,
   "metadata": {},
   "outputs": [
    {
     "name": "stdout",
     "output_type": "stream",
     "text": [
      "Number of outfield outfield records before filtering: 3958\n",
      "Number of outfield outfield records after filtering: 3323\n"
     ]
    }
   ],
   "source": [
    "# Dropping all entries with BasedOnMinutes less than 450 min, playing less than 5 games\n",
    "print(f\"Number of outfield outfield records before filtering: {len(outfield_df)}\")\n",
    "outfield_df = outfield_df[outfield_df['BasedOnMinutes'] >= 450]\n",
    "print(f\"Number of outfield outfield records after filtering: {len(outfield_df)}\")"
   ]
  },
  {
   "cell_type": "markdown",
   "metadata": {},
   "source": [
    "Dropping rows with \"Last 365 Days Men's Big 5 Leagues\""
   ]
  },
  {
   "cell_type": "code",
   "execution_count": 441,
   "metadata": {},
   "outputs": [],
   "source": [
    "# Drop rows where scouting_period is \"Last 365 Days Men's Big 5 Leagues\"\n",
    "outfield_df = outfield_df[outfield_df['scouting_period'] != \"Last 365 Days Men's Big 5 Leagues\"]"
   ]
  },
  {
   "cell_type": "markdown",
   "metadata": {},
   "source": [
    "Dropping per 90 data (not needed any more since split dataset into per90 and percentile, also hard to average percentile)"
   ]
  },
  {
   "cell_type": "code",
   "execution_count": 442,
   "metadata": {},
   "outputs": [],
   "source": [
    "# # drop per90\n",
    "\n",
    "# # Initial number of columns\n",
    "# initial_column_count = outfield_df.shape[1]\n",
    "\n",
    "# # Drop columns with \"Per90\" in their name\n",
    "# columns_to_drop = [col for col in outfield_df.columns if 'Per90' in col]\n",
    "# outfield_df = outfield_df.drop(columns=columns_to_drop)\n",
    "\n",
    "# # Final number of columns\n",
    "# final_column_count = outfield_df.shape[1]\n",
    "# columns_dropped = initial_column_count - final_column_count\n",
    "\n",
    "# print(f\"Number of columns before dropping 'Per90': {initial_column_count}\")\n",
    "# print(f\"Number of columns after dropping 'Per90': {final_column_count}\")\n",
    "# print(f\"Number of columns dropped: {columns_dropped}\")"
   ]
  },
  {
   "cell_type": "markdown",
   "metadata": {},
   "source": [
    "Dropping Percentile data "
   ]
  },
  {
   "cell_type": "code",
   "execution_count": 443,
   "metadata": {},
   "outputs": [
    {
     "name": "stdout",
     "output_type": "stream",
     "text": [
      "Number of outfield player records before dropping Percentile: 121\n",
      "Number of outfield player records after dropping Percentile: 121\n"
     ]
    }
   ],
   "source": [
    "print(f\"Number of outfield player records before dropping Percentile: {outfield_df.shape[1]}\")\n",
    "columns_to_drop = [col for col in outfield_df.columns if 'Percentile' in col]\n",
    "outfield_df = outfield_df.drop(columns=columns_to_drop)\n",
    "print(f\"Number of outfield player records after dropping Percentile: {outfield_df.shape[1]}\")"
   ]
  },
  {
   "cell_type": "markdown",
   "metadata": {},
   "source": [
    "Handling na values"
   ]
  },
  {
   "cell_type": "code",
   "execution_count": 444,
   "metadata": {},
   "outputs": [],
   "source": [
    "null_rows = outfield_df[outfield_df.isnull().any(axis=1)]\n",
    "null_rows.to_excel('transformed_data/null_rows.xlsx', index=False)"
   ]
  },
  {
   "cell_type": "code",
   "execution_count": 445,
   "metadata": {},
   "outputs": [],
   "source": [
    "# na_columns_goal_related = ['Percentile_Goals/Shot on Target', \n",
    "#                            'Percentile_npxG/Shot', \n",
    "#                            'Percentile_Average Shot Distance', \n",
    "#                            'Percentile_Goals/Shot', \n",
    "#                            'Percentile_Shots on Target %']\n",
    "# na_columns_dribble_related = ['Percentile_Successful Take-On %',\n",
    "#                               'Percentile_Tackled During Take-On Percentage']\n",
    "# na_columns_others = ['Percentile_% of Dribblers Tackled',\n",
    "#                      'Percentile_% of Aerials Won',\n",
    "#                      'Percentile_Pass Completion % (Long)']\n",
    "# # Fill missing values with 0 as corresponding player is not involved in those actions, suggesting they are not good at it.\n",
    "# outfield_df[na_columns_goal_related] = outfield_df[na_columns_goal_related].fillna(0)\n",
    "# outfield_df[na_columns_dribble_related] = outfield_df[na_columns_dribble_related].fillna(0)\n",
    "# outfield_df[na_columns_others] = outfield_df[na_columns_others].fillna(0)"
   ]
  },
  {
   "cell_type": "code",
   "execution_count": 446,
   "metadata": {},
   "outputs": [
    {
     "name": "stdout",
     "output_type": "stream",
     "text": [
      "Number of rows with na values: 362\n"
     ]
    }
   ],
   "source": [
    "print(f\"Number of rows with na values: {len(outfield_df[outfield_df.isnull().any(axis=1)])}\")"
   ]
  },
  {
   "cell_type": "code",
   "execution_count": 447,
   "metadata": {},
   "outputs": [],
   "source": [
    "# If Per90 is not dropped\n",
    "na_columns_goal_related_per90 = ['Per90_Goals/Shot on Target', \n",
    "                                 'Per90_npxG/Shot', \n",
    "                                 'Per90_Average Shot Distance', \n",
    "                                 'Per90_Goals/Shot', \n",
    "                                 'Per90_Shots on Target %']\n",
    "na_columns_dribble_related_per90 = ['Per90_Successful Take-On %',\n",
    "                                    'Per90_Tackled During Take-On Percentage']\n",
    "na_columns_others = ['Per90_% of Dribblers Tackled',\n",
    "                    'Per90_% of Aerials Won',\n",
    "                    'Per90_Pass Completion % (Long)']\n",
    "def get_existing_columns(df, *column_lists):\n",
    "    existing_cols = []\n",
    "    for col_list in column_lists:\n",
    "        existing_cols.extend([col for col in col_list if col in df.columns])\n",
    "    return existing_cols\n",
    "\n",
    "# Get all existing columns from the three lists\n",
    "existing_columns = get_existing_columns(outfield_df, \n",
    "                                        na_columns_goal_related_per90, \n",
    "                                        na_columns_dribble_related_per90, \n",
    "                                        na_columns_others)\n",
    "\n",
    "outfield_df[existing_columns] = outfield_df[existing_columns].fillna(0)"
   ]
  },
  {
   "cell_type": "code",
   "execution_count": 448,
   "metadata": {},
   "outputs": [
    {
     "name": "stdout",
     "output_type": "stream",
     "text": [
      "Number of rows with na values: 0\n"
     ]
    }
   ],
   "source": [
    "print(f\"Number of rows with na values: {len(outfield_df[outfield_df.isnull().any(axis=1)])}\")"
   ]
  },
  {
   "cell_type": "markdown",
   "metadata": {},
   "source": [
    "Feature Engineering"
   ]
  },
  {
   "cell_type": "code",
   "execution_count": 449,
   "metadata": {},
   "outputs": [
    {
     "name": "stderr",
     "output_type": "stream",
     "text": [
      "/var/folders/73/wcqzpl9901z1403_p0wsmlsw0000gn/T/ipykernel_36022/1821035503.py:5: FutureWarning: A value is trying to be set on a copy of a DataFrame or Series through chained assignment using an inplace method.\n",
      "The behavior will change in pandas 3.0. This inplace method will never work because the intermediate object on which we are setting values always behaves as a copy.\n",
      "\n",
      "For example, when doing 'df[col].method(value, inplace=True)', try using 'df.method({col: value}, inplace=True)' or df[col] = df[col].method(value) instead, to perform the operation inplace on the original object.\n",
      "\n",
      "\n",
      "  outfield_df[\"Finishing_Efficiency\"].fillna(0, inplace=True)\n",
      "/var/folders/73/wcqzpl9901z1403_p0wsmlsw0000gn/T/ipykernel_36022/1821035503.py:13: FutureWarning: A value is trying to be set on a copy of a DataFrame or Series through chained assignment using an inplace method.\n",
      "The behavior will change in pandas 3.0. This inplace method will never work because the intermediate object on which we are setting values always behaves as a copy.\n",
      "\n",
      "For example, when doing 'df[col].method(value, inplace=True)', try using 'df.method({col: value}, inplace=True)' or df[col] = df[col].method(value) instead, to perform the operation inplace on the original object.\n",
      "\n",
      "\n",
      "  outfield_df[\"Assist_Efficiency\"].fillna(0, inplace=True)\n"
     ]
    }
   ],
   "source": [
    "# Compute the Goals per Expected Goals Ratio\n",
    "outfield_df[\"Finishing_Efficiency\"] = outfield_df[\"Per90_Goals\"] / outfield_df[\"Per90_Goals - xG\"]\n",
    "\n",
    "# Handle cases where xG is zero (avoid division by zero)\n",
    "outfield_df[\"Finishing_Efficiency\"].fillna(0, inplace=True)\n",
    "outfield_df[\"Finishing_Efficiency\"] = outfield_df[\"Finishing_Efficiency\"].replace(np.inf, 0)\n",
    "\n",
    "# Drop Per90_Goals - xG\n",
    "outfield_df = outfield_df.drop(columns=[\"Per90_Goals - xG\"])\n",
    "\n",
    "# Compute the Assists per Expected Assists Ratio\n",
    "outfield_df[\"Assist_Efficiency\"] = outfield_df[\"Per90_Assists\"] / outfield_df[\"Per90_xA: Expected Assists\"]\n",
    "outfield_df[\"Assist_Efficiency\"].fillna(0, inplace=True)\n",
    "outfield_df[\"Assist_Efficiency\"] = outfield_df[\"Assist_Efficiency\"].replace(np.inf, 0)\n",
    "outfield_df = outfield_df.drop(columns=[\"Per90_xA: Expected Assists\"])"
   ]
  },
  {
   "cell_type": "code",
   "execution_count": 450,
   "metadata": {},
   "outputs": [],
   "source": [
    "# drop non-useful columns\n",
    "useless_columns = ['Per90_Second Yellow Card', 'Per90_Own Goals', '']"
   ]
  },
  {
   "cell_type": "markdown",
   "metadata": {},
   "source": [
    "Combining rows to ensure that one entry is tagged to only one unique player"
   ]
  },
  {
   "cell_type": "code",
   "execution_count": 451,
   "metadata": {},
   "outputs": [
    {
     "name": "stdout",
     "output_type": "stream",
     "text": [
      "Player                             object\n",
      "Versus                             object\n",
      "BasedOnMinutes                      int64\n",
      "scouting_period                    object\n",
      "Per90_% of Aerials Won            float64\n",
      "                                   ...   \n",
      "Per90_npxG: Non-Penalty xG        float64\n",
      "Per90_xAG: Exp. Assisted Goals    float64\n",
      "Per90_xG: Expected Goals          float64\n",
      "Finishing_Efficiency              float64\n",
      "Assist_Efficiency                 float64\n",
      "Length: 121, dtype: object\n"
     ]
    }
   ],
   "source": [
    "print(outfield_df.dtypes)"
   ]
  },
  {
   "cell_type": "code",
   "execution_count": 452,
   "metadata": {},
   "outputs": [
    {
     "name": "stderr",
     "output_type": "stream",
     "text": [
      "/var/folders/73/wcqzpl9901z1403_p0wsmlsw0000gn/T/ipykernel_36022/314367980.py:8: DeprecationWarning: DataFrameGroupBy.apply operated on the grouping columns. This behavior is deprecated, and in a future version of pandas the grouping columns will be excluded from the operation. Either pass `include_groups=False` to exclude the groupings or explicitly select the grouping columns after groupby to silence this warning.\n",
      "  weighted_avg_df = outfield_df.groupby(\"Player\").apply(\n"
     ]
    },
    {
     "data": {
      "text/html": [
       "<div>\n",
       "<style scoped>\n",
       "    .dataframe tbody tr th:only-of-type {\n",
       "        vertical-align: middle;\n",
       "    }\n",
       "\n",
       "    .dataframe tbody tr th {\n",
       "        vertical-align: top;\n",
       "    }\n",
       "\n",
       "    .dataframe thead th {\n",
       "        text-align: right;\n",
       "    }\n",
       "</style>\n",
       "<table border=\"1\" class=\"dataframe\">\n",
       "  <thead>\n",
       "    <tr style=\"text-align: right;\">\n",
       "      <th></th>\n",
       "      <th>Player</th>\n",
       "      <th>Per90_% of Aerials Won</th>\n",
       "      <th>Per90_% of Dribblers Tackled</th>\n",
       "      <th>Per90_Aerials Lost</th>\n",
       "      <th>Per90_Aerials Won</th>\n",
       "      <th>Per90_Assists</th>\n",
       "      <th>Per90_Average Shot Distance</th>\n",
       "      <th>Per90_Ball Recoveries</th>\n",
       "      <th>Per90_Blocks</th>\n",
       "      <th>Per90_Carries</th>\n",
       "      <th>...</th>\n",
       "      <th>Per90_Touches (Live-Ball)</th>\n",
       "      <th>Per90_Touches (Mid 3rd)</th>\n",
       "      <th>Per90_Yellow Cards</th>\n",
       "      <th>Per90_npxG + xAG</th>\n",
       "      <th>Per90_npxG/Shot</th>\n",
       "      <th>Per90_npxG: Non-Penalty xG</th>\n",
       "      <th>Per90_xAG: Exp. Assisted Goals</th>\n",
       "      <th>Per90_xG: Expected Goals</th>\n",
       "      <th>Finishing_Efficiency</th>\n",
       "      <th>Assist_Efficiency</th>\n",
       "    </tr>\n",
       "  </thead>\n",
       "  <tbody>\n",
       "    <tr>\n",
       "      <th>0</th>\n",
       "      <td>Aaron Cresswell</td>\n",
       "      <td>53.744897</td>\n",
       "      <td>54.478054</td>\n",
       "      <td>1.050578</td>\n",
       "      <td>1.232776</td>\n",
       "      <td>0.126076</td>\n",
       "      <td>23.713051</td>\n",
       "      <td>5.019973</td>\n",
       "      <td>1.003463</td>\n",
       "      <td>33.071370</td>\n",
       "      <td>...</td>\n",
       "      <td>67.727667</td>\n",
       "      <td>31.363400</td>\n",
       "      <td>0.152007</td>\n",
       "      <td>0.151503</td>\n",
       "      <td>0.053259</td>\n",
       "      <td>0.028676</td>\n",
       "      <td>0.125962</td>\n",
       "      <td>0.028676</td>\n",
       "      <td>1.257216</td>\n",
       "      <td>1.235572</td>\n",
       "    </tr>\n",
       "    <tr>\n",
       "      <th>1</th>\n",
       "      <td>Aaron Wan-Bissaka</td>\n",
       "      <td>46.982567</td>\n",
       "      <td>74.928410</td>\n",
       "      <td>1.019510</td>\n",
       "      <td>0.916619</td>\n",
       "      <td>0.080330</td>\n",
       "      <td>15.204835</td>\n",
       "      <td>5.334216</td>\n",
       "      <td>1.442013</td>\n",
       "      <td>31.436534</td>\n",
       "      <td>...</td>\n",
       "      <td>66.273364</td>\n",
       "      <td>27.892252</td>\n",
       "      <td>0.126624</td>\n",
       "      <td>0.086534</td>\n",
       "      <td>0.081324</td>\n",
       "      <td>0.025679</td>\n",
       "      <td>0.061986</td>\n",
       "      <td>0.025679</td>\n",
       "      <td>0.752012</td>\n",
       "      <td>1.590200</td>\n",
       "    </tr>\n",
       "    <tr>\n",
       "      <th>2</th>\n",
       "      <td>Abdoulaye Doucouré</td>\n",
       "      <td>48.890342</td>\n",
       "      <td>34.887704</td>\n",
       "      <td>1.244611</td>\n",
       "      <td>1.177708</td>\n",
       "      <td>0.088108</td>\n",
       "      <td>16.691402</td>\n",
       "      <td>6.906970</td>\n",
       "      <td>1.076944</td>\n",
       "      <td>31.009267</td>\n",
       "      <td>...</td>\n",
       "      <td>54.856984</td>\n",
       "      <td>29.530726</td>\n",
       "      <td>0.222580</td>\n",
       "      <td>0.232226</td>\n",
       "      <td>0.115489</td>\n",
       "      <td>0.142039</td>\n",
       "      <td>0.088268</td>\n",
       "      <td>0.142039</td>\n",
       "      <td>-2.619657</td>\n",
       "      <td>1.300938</td>\n",
       "    </tr>\n",
       "    <tr>\n",
       "      <th>3</th>\n",
       "      <td>Abdul Fatawu Issahaku</td>\n",
       "      <td>57.046218</td>\n",
       "      <td>57.095822</td>\n",
       "      <td>1.323621</td>\n",
       "      <td>1.714821</td>\n",
       "      <td>0.390979</td>\n",
       "      <td>22.707866</td>\n",
       "      <td>5.051253</td>\n",
       "      <td>1.321935</td>\n",
       "      <td>34.739718</td>\n",
       "      <td>...</td>\n",
       "      <td>51.809492</td>\n",
       "      <td>16.360805</td>\n",
       "      <td>0.118291</td>\n",
       "      <td>0.484339</td>\n",
       "      <td>0.058513</td>\n",
       "      <td>0.145540</td>\n",
       "      <td>0.338799</td>\n",
       "      <td>0.145540</td>\n",
       "      <td>3.879055</td>\n",
       "      <td>1.239622</td>\n",
       "    </tr>\n",
       "    <tr>\n",
       "      <th>4</th>\n",
       "      <td>Adam Armstrong</td>\n",
       "      <td>36.222236</td>\n",
       "      <td>27.570076</td>\n",
       "      <td>0.875512</td>\n",
       "      <td>0.463434</td>\n",
       "      <td>0.162634</td>\n",
       "      <td>17.211408</td>\n",
       "      <td>2.588938</td>\n",
       "      <td>0.703846</td>\n",
       "      <td>21.511588</td>\n",
       "      <td>...</td>\n",
       "      <td>35.012507</td>\n",
       "      <td>12.474270</td>\n",
       "      <td>0.089829</td>\n",
       "      <td>0.474690</td>\n",
       "      <td>0.110658</td>\n",
       "      <td>0.345774</td>\n",
       "      <td>0.131012</td>\n",
       "      <td>0.410552</td>\n",
       "      <td>-10.361691</td>\n",
       "      <td>1.613350</td>\n",
       "    </tr>\n",
       "  </tbody>\n",
       "</table>\n",
       "<p>5 rows × 118 columns</p>\n",
       "</div>"
      ],
      "text/plain": [
       "                  Player  Per90_% of Aerials Won  \\\n",
       "0        Aaron Cresswell               53.744897   \n",
       "1      Aaron Wan-Bissaka               46.982567   \n",
       "2     Abdoulaye Doucouré               48.890342   \n",
       "3  Abdul Fatawu Issahaku               57.046218   \n",
       "4         Adam Armstrong               36.222236   \n",
       "\n",
       "   Per90_% of Dribblers Tackled  Per90_Aerials Lost  Per90_Aerials Won  \\\n",
       "0                     54.478054            1.050578           1.232776   \n",
       "1                     74.928410            1.019510           0.916619   \n",
       "2                     34.887704            1.244611           1.177708   \n",
       "3                     57.095822            1.323621           1.714821   \n",
       "4                     27.570076            0.875512           0.463434   \n",
       "\n",
       "   Per90_Assists  Per90_Average Shot Distance  Per90_Ball Recoveries  \\\n",
       "0       0.126076                    23.713051               5.019973   \n",
       "1       0.080330                    15.204835               5.334216   \n",
       "2       0.088108                    16.691402               6.906970   \n",
       "3       0.390979                    22.707866               5.051253   \n",
       "4       0.162634                    17.211408               2.588938   \n",
       "\n",
       "   Per90_Blocks  Per90_Carries  ...  Per90_Touches (Live-Ball)  \\\n",
       "0      1.003463      33.071370  ...                  67.727667   \n",
       "1      1.442013      31.436534  ...                  66.273364   \n",
       "2      1.076944      31.009267  ...                  54.856984   \n",
       "3      1.321935      34.739718  ...                  51.809492   \n",
       "4      0.703846      21.511588  ...                  35.012507   \n",
       "\n",
       "   Per90_Touches (Mid 3rd)  Per90_Yellow Cards  Per90_npxG + xAG  \\\n",
       "0                31.363400            0.152007          0.151503   \n",
       "1                27.892252            0.126624          0.086534   \n",
       "2                29.530726            0.222580          0.232226   \n",
       "3                16.360805            0.118291          0.484339   \n",
       "4                12.474270            0.089829          0.474690   \n",
       "\n",
       "   Per90_npxG/Shot  Per90_npxG: Non-Penalty xG  \\\n",
       "0         0.053259                    0.028676   \n",
       "1         0.081324                    0.025679   \n",
       "2         0.115489                    0.142039   \n",
       "3         0.058513                    0.145540   \n",
       "4         0.110658                    0.345774   \n",
       "\n",
       "   Per90_xAG: Exp. Assisted Goals  Per90_xG: Expected Goals  \\\n",
       "0                        0.125962                  0.028676   \n",
       "1                        0.061986                  0.025679   \n",
       "2                        0.088268                  0.142039   \n",
       "3                        0.338799                  0.145540   \n",
       "4                        0.131012                  0.410552   \n",
       "\n",
       "   Finishing_Efficiency  Assist_Efficiency  \n",
       "0              1.257216           1.235572  \n",
       "1              0.752012           1.590200  \n",
       "2             -2.619657           1.300938  \n",
       "3              3.879055           1.239622  \n",
       "4            -10.361691           1.613350  \n",
       "\n",
       "[5 rows x 118 columns]"
      ]
     },
     "execution_count": 452,
     "metadata": {},
     "output_type": "execute_result"
    }
   ],
   "source": [
    "# Drop non-numeric column \"scouting_period\"\n",
    "outfield_df = outfield_df.drop(columns=[\"scouting_period\"], errors=\"ignore\")\n",
    "\n",
    "# Define numeric columns excluding categorical ones\n",
    "numeric_cols = [col for col in outfield_df.columns if col not in ['Player', 'Versus', 'BasedOnMinutes']]\n",
    "\n",
    "# Compute weighted averages for numeric stats\n",
    "weighted_avg_df = outfield_df.groupby(\"Player\").apply(\n",
    "    lambda group: pd.Series(\n",
    "        {col: np.average(group[col], weights=group[\"BasedOnMinutes\"]) for col in numeric_cols}\n",
    "    )\n",
    ").reset_index()\n",
    "\n",
    "# Drop \"BasedOnMinutes\" since it's no longer needed\n",
    "outfield_df = weighted_avg_df.drop(columns=[\"BasedOnMinutes\"], errors=\"ignore\")\n",
    "\n",
    "outfield_df.head()"
   ]
  },
  {
   "cell_type": "markdown",
   "metadata": {},
   "source": [
    "Merge with age_data"
   ]
  },
  {
   "cell_type": "code",
   "execution_count": 453,
   "metadata": {},
   "outputs": [
    {
     "name": "stdout",
     "output_type": "stream",
     "text": [
      "Number of na values in Age: 14\n",
      "Number of na values in Age after dropping: 0\n",
      "Merging completed successfully!\n"
     ]
    }
   ],
   "source": [
    "\n",
    "age_df = pd.read_csv(\"data/age_data.csv\")\n",
    "\n",
    "for name in outfield_df['Player']:\n",
    "    matched_name, score, _ = process.extractOne(name, age_df['Player'])\n",
    "\n",
    "    if score >= 70:\n",
    "        outfield_df['Player'] = outfield_df['Player'].replace(name, matched_name)\n",
    "\n",
    "outfield_df = outfield_df.merge(\n",
    "    age_df[['Player', 'age']], \n",
    "    on=\"Player\", \n",
    "    how=\"left\"\n",
    ")\n",
    "\n",
    "print(f\"Number of na values in Age: {outfield_df['age'].isna().sum()}\")\n",
    "# drop na values\n",
    "outfield_df = outfield_df.dropna(subset=['age'])\n",
    "print(f\"Number of na values in Age after dropping: {outfield_df['age'].isna().sum()}\")\n",
    "\n",
    "outfield_df.to_csv(\"preprocessed_data/outfield_processed.csv\", index=False)\n",
    "\n",
    "print(\"Merging completed successfully!\")"
   ]
  },
  {
   "cell_type": "markdown",
   "metadata": {},
   "source": [
    "Standardise numerical features"
   ]
  },
  {
   "cell_type": "code",
   "execution_count": 454,
   "metadata": {},
   "outputs": [],
   "source": [
    "# scaler = StandardScaler()\n",
    "# statistical_cols = [col for col in outfield_df.columns if col not in ['Player', 'player_market_value_euro']]\n",
    "# outfield_df[statistical_cols] = scaler.fit_transform(outfield_df[statistical_cols])"
   ]
  },
  {
   "cell_type": "markdown",
   "metadata": {},
   "source": [
    "Finding correlation between features "
   ]
  },
  {
   "cell_type": "code",
   "execution_count": 455,
   "metadata": {},
   "outputs": [],
   "source": [
    "# Function to compute Cramér's V\n",
    "def cramers_v(cat_variable, num_variable):\n",
    "    contingency_table = pd.crosstab(outfield_df[cat_variable], pd.qcut(outfield_df[num_variable], q=4))\n",
    "    chi2 = chi2_contingency(contingency_table)[0]\n",
    "    n = outfield_df.shape[0]\n",
    "    return np.sqrt(chi2 / (n * (min(contingency_table.shape) - 1)))\n",
    "\n",
    "# Identify categorical and numerical columns\n",
    "categorical_cols = []\n",
    "non_numeric_cols = [\"Player\"] + categorical_cols\n",
    "numerical_cols = outfield_df.select_dtypes(include=[\"float64\", \"int64\"]).columns\n",
    "\n",
    "# Drop non-numeric variables before computing numerical correlations\n",
    "numerical_df = outfield_df.drop(columns=non_numeric_cols, errors=\"ignore\")\n",
    "\n",
    "# Compute Pearson correlation for numerical variables\n",
    "numerical_corr_matrix = numerical_df.corr()\n",
    "\n",
    "# Initialize Cramér’s V matrix for categorical-numerical correlations\n",
    "cramers_matrix = pd.DataFrame(index=categorical_cols, columns=numerical_cols)\n",
    "\n",
    "# Compute Cramér's V for categorical-numerical relationships\n",
    "for cat_col in categorical_cols:\n",
    "    for num_col in numerical_cols:\n",
    "        if cat_col != num_col:\n",
    "            cramers_matrix.loc[cat_col, num_col] = cramers_v(cat_col, num_col)\n",
    "\n",
    "# Convert Cramér’s V values to float\n",
    "cramers_matrix = cramers_matrix.astype(float)\n",
    "\n",
    "# Merge Pearson correlation with Cramér’s V correlation\n",
    "full_correlation_matrix = numerical_corr_matrix.copy()\n",
    "\n",
    "for cat_col in categorical_cols:\n",
    "    for num_col in numerical_cols:\n",
    "        full_correlation_matrix.loc[cat_col, num_col] = cramers_matrix.loc[cat_col, num_col]\n",
    "\n",
    "# Convert final matrix to float for heatmap\n",
    "full_correlation_matrix = full_correlation_matrix.astype(float)\n"
   ]
  },
  {
   "cell_type": "code",
   "execution_count": 456,
   "metadata": {},
   "outputs": [],
   "source": [
    "# # Set correlation threshold \n",
    "# correlation_threshold = 0.9\n",
    "\n",
    "# # Compute the absolute correlation matrix\n",
    "# corr_matrix = full_correlation_matrix.abs()\n",
    "\n",
    "# # Create a set to hold the features to remove\n",
    "# features_to_remove = set()\n",
    "\n",
    "# # Iterate through correlation matrix and identify features to drop\n",
    "# for i in range(len(corr_matrix.columns)):\n",
    "#     for j in range(i):\n",
    "#         if corr_matrix.iloc[i, j] > correlation_threshold:  # If correlation is above threshold\n",
    "#             colname = corr_matrix.columns[i]  # Get feature name\n",
    "#             features_to_remove.add(colname)  # Add it to the removal list\n",
    "\n",
    "# # Drop the identified features\n",
    "# outfield_df_reduced = outfield_df.drop(columns=features_to_remove, errors=\"ignore\")\n",
    "\n",
    "# # Save the cleaned dataset\n",
    "# outfield_df_reduced.to_csv(\"transformed_data/outfield_stats_cleaned.csv\", index=False)\n",
    "\n",
    "# print(f\"Removed {len(features_to_remove)} highly correlated features.\")\n",
    "# print(f\"Remaining features: {outfield_df_reduced.shape[1]}\")\n",
    "# print(f\"Reminding columns: {outfield_df_reduced.columns}\")"
   ]
  },
  {
   "cell_type": "markdown",
   "metadata": {},
   "source": [
    "Load the valuations_df"
   ]
  },
  {
   "cell_type": "code",
   "execution_count": 457,
   "metadata": {},
   "outputs": [],
   "source": [
    "valuations_df = pd.read_csv(\"data/Premier_League_Player_Valuations_2019_2024.csv\")"
   ]
  },
  {
   "cell_type": "markdown",
   "metadata": {},
   "source": [
    "Log the distribution of player market value"
   ]
  },
  {
   "cell_type": "code",
   "execution_count": 458,
   "metadata": {},
   "outputs": [
    {
     "data": {
      "image/png": "[encoded data removed]",
      "text/plain": [
       "<Figure size 640x480 with 1 Axes>"
      ]
     },
     "metadata": {},
     "output_type": "display_data"
    },
    {
     "data": {
      "image/png": "[encoded data removed]",
      "text/plain": [
       "<Figure size 1000x500 with 1 Axes>"
      ]
     },
     "metadata": {},
     "output_type": "display_data"
    }
   ],
   "source": [
    "\n",
    "# visualise distribution of player market value\n",
    "plt.hist(valuations_df['player_market_value_euro'], bins=30, edgecolor='k')\n",
    "\n",
    "# log visualisation\n",
    "log_values = np.log1p(valuations_df['player_market_value_euro'])  # log(1 + x) to avoid log(0) issues\n",
    "\n",
    "# Log visualisation\n",
    "plt.figure(figsize=(10, 5))\n",
    "plt.hist(log_values, bins=30, edgecolor='k', color='orange')\n",
    "plt.xlabel('Log Market Value (€)')\n",
    "plt.ylabel('Frequency')\n",
    "plt.title('Log-Transformed Distribution of Player Market Value')\n",
    "plt.show()\n",
    "\n",
    "# convert player_market_value to a log scale\n",
    "valuations_df['player_market_value_euro'] = np.log(valuations_df['player_market_value_euro'])\n"
   ]
  },
  {
   "cell_type": "markdown",
   "metadata": {},
   "source": [
    "Merge data with valuation"
   ]
  },
  {
   "cell_type": "code",
   "execution_count": null,
   "metadata": {},
   "outputs": [
    {
     "name": "stdout",
     "output_type": "stream",
     "text": [
      "Number of na values in player_market_value_euro: 14\n",
      "Number of na values in player_market_value_euro after dropping: 0\n"
     ]
    }
   ],
   "source": [
    "# Rename 'player_name' to 'Player'\n",
    "valuations_df.rename(columns={\"player_name\": \"Player\"}, inplace=True)\n",
    "\n",
    "# Filter only rows where season_start_year is 2024\n",
    "valuations_2024_df = valuations_df[valuations_df['season_start_year'] == 2024]\n",
    "\n",
    "# Change 'Player' value in outfield_df to that in valuations_2024_df if fuzzy matching\n",
    "for name in outfield_df['Player']:\n",
    "    matched_name, score, _ = process.extractOne(name, valuations_2024_df['Player'])\n",
    "\n",
    "    if score >= 70:\n",
    "        # replace name with best_match\n",
    "        outfield_df['Player'] = outfield_df['Player'].replace(name, matched_name)\n",
    "\n",
    "# Merge only player_market_value_euro for 2024 season\n",
    "outfield_df = outfield_df.merge(\n",
    "    valuations_2024_df[['Player', 'player_market_value_euro']], \n",
    "    on=\"Player\", \n",
    "    how=\"left\"\n",
    ")\n",
    "\n",
    "# Print number of na values in player_market_value_euro\n",
    "print(f\"Number of na values in player_market_value_euro: {outfield_df['player_market_value_euro'].isna().sum()}\")\n",
    "# drop na values\n",
    "outfield_df = outfield_df.dropna(subset=['player_market_value_euro'])\n",
    "print(f\"Number of na values in player_market_value_euro after dropping: {outfield_df['player_market_value_euro'].isna().sum()}\")"
   ]
  },
  {
   "cell_type": "code",
   "execution_count": 460,
   "metadata": {},
   "outputs": [
    {
     "name": "stdout",
     "output_type": "stream",
     "text": [
      "Merging completed successfully!\n"
     ]
    }
   ],
   "source": [
    "# Save the processed file\n",
    "outfield_df.to_csv(\"preprocessed_data/outfield_processed.csv\", index=False)\n",
    "print(\"Merging completed successfully!\")"
   ]
  },
  {
   "cell_type": "code",
   "execution_count": 461,
   "metadata": {},
   "outputs": [
    {
     "data": {
      "text/html": [
       "<div>\n",
       "<style scoped>\n",
       "    .dataframe tbody tr th:only-of-type {\n",
       "        vertical-align: middle;\n",
       "    }\n",
       "\n",
       "    .dataframe tbody tr th {\n",
       "        vertical-align: top;\n",
       "    }\n",
       "\n",
       "    .dataframe thead th {\n",
       "        text-align: right;\n",
       "    }\n",
       "</style>\n",
       "<table border=\"1\" class=\"dataframe\">\n",
       "  <thead>\n",
       "    <tr style=\"text-align: right;\">\n",
       "      <th></th>\n",
       "      <th>Player</th>\n",
       "      <th>Per90_% of Aerials Won</th>\n",
       "      <th>Per90_% of Dribblers Tackled</th>\n",
       "      <th>Per90_Aerials Lost</th>\n",
       "      <th>Per90_Aerials Won</th>\n",
       "      <th>Per90_Assists</th>\n",
       "      <th>Per90_Average Shot Distance</th>\n",
       "      <th>Per90_Ball Recoveries</th>\n",
       "      <th>Per90_Blocks</th>\n",
       "      <th>Per90_Carries</th>\n",
       "      <th>...</th>\n",
       "      <th>Per90_Yellow Cards</th>\n",
       "      <th>Per90_npxG + xAG</th>\n",
       "      <th>Per90_npxG/Shot</th>\n",
       "      <th>Per90_npxG: Non-Penalty xG</th>\n",
       "      <th>Per90_xAG: Exp. Assisted Goals</th>\n",
       "      <th>Per90_xG: Expected Goals</th>\n",
       "      <th>Finishing_Efficiency</th>\n",
       "      <th>Assist_Efficiency</th>\n",
       "      <th>age</th>\n",
       "      <th>player_market_value_euro</th>\n",
       "    </tr>\n",
       "  </thead>\n",
       "  <tbody>\n",
       "    <tr>\n",
       "      <th>0</th>\n",
       "      <td>Aaron Cresswell</td>\n",
       "      <td>53.744897</td>\n",
       "      <td>54.478054</td>\n",
       "      <td>1.050578</td>\n",
       "      <td>1.232776</td>\n",
       "      <td>0.126076</td>\n",
       "      <td>23.713051</td>\n",
       "      <td>5.019973</td>\n",
       "      <td>1.003463</td>\n",
       "      <td>33.071370</td>\n",
       "      <td>...</td>\n",
       "      <td>0.152007</td>\n",
       "      <td>0.151503</td>\n",
       "      <td>0.053259</td>\n",
       "      <td>0.028676</td>\n",
       "      <td>0.125962</td>\n",
       "      <td>0.028676</td>\n",
       "      <td>1.257216</td>\n",
       "      <td>1.235572</td>\n",
       "      <td>35.158904</td>\n",
       "      <td>13.458836</td>\n",
       "    </tr>\n",
       "    <tr>\n",
       "      <th>1</th>\n",
       "      <td>Aaron Wan-Bissaka</td>\n",
       "      <td>46.982567</td>\n",
       "      <td>74.928410</td>\n",
       "      <td>1.019510</td>\n",
       "      <td>0.916619</td>\n",
       "      <td>0.080330</td>\n",
       "      <td>15.204835</td>\n",
       "      <td>5.334216</td>\n",
       "      <td>1.442013</td>\n",
       "      <td>31.436534</td>\n",
       "      <td>...</td>\n",
       "      <td>0.126624</td>\n",
       "      <td>0.086534</td>\n",
       "      <td>0.081324</td>\n",
       "      <td>0.025679</td>\n",
       "      <td>0.061986</td>\n",
       "      <td>0.025679</td>\n",
       "      <td>0.752012</td>\n",
       "      <td>1.590200</td>\n",
       "      <td>27.210959</td>\n",
       "      <td>16.906553</td>\n",
       "    </tr>\n",
       "    <tr>\n",
       "      <th>2</th>\n",
       "      <td>Abdoulaye Doucouré</td>\n",
       "      <td>48.890342</td>\n",
       "      <td>34.887704</td>\n",
       "      <td>1.244611</td>\n",
       "      <td>1.177708</td>\n",
       "      <td>0.088108</td>\n",
       "      <td>16.691402</td>\n",
       "      <td>6.906970</td>\n",
       "      <td>1.076944</td>\n",
       "      <td>31.009267</td>\n",
       "      <td>...</td>\n",
       "      <td>0.222580</td>\n",
       "      <td>0.232226</td>\n",
       "      <td>0.115489</td>\n",
       "      <td>0.142039</td>\n",
       "      <td>0.088268</td>\n",
       "      <td>0.142039</td>\n",
       "      <td>-2.619657</td>\n",
       "      <td>1.300938</td>\n",
       "      <td>32.112329</td>\n",
       "      <td>15.894952</td>\n",
       "    </tr>\n",
       "    <tr>\n",
       "      <th>3</th>\n",
       "      <td>Issahaku Fatawu</td>\n",
       "      <td>57.046218</td>\n",
       "      <td>57.095822</td>\n",
       "      <td>1.323621</td>\n",
       "      <td>1.714821</td>\n",
       "      <td>0.390979</td>\n",
       "      <td>22.707866</td>\n",
       "      <td>5.051253</td>\n",
       "      <td>1.321935</td>\n",
       "      <td>34.739718</td>\n",
       "      <td>...</td>\n",
       "      <td>0.118291</td>\n",
       "      <td>0.484339</td>\n",
       "      <td>0.058513</td>\n",
       "      <td>0.145540</td>\n",
       "      <td>0.338799</td>\n",
       "      <td>0.145540</td>\n",
       "      <td>3.879055</td>\n",
       "      <td>1.239622</td>\n",
       "      <td>20.931507</td>\n",
       "      <td>16.380460</td>\n",
       "    </tr>\n",
       "    <tr>\n",
       "      <th>4</th>\n",
       "      <td>Adam Wharton</td>\n",
       "      <td>36.222236</td>\n",
       "      <td>27.570076</td>\n",
       "      <td>0.875512</td>\n",
       "      <td>0.463434</td>\n",
       "      <td>0.162634</td>\n",
       "      <td>17.211408</td>\n",
       "      <td>2.588938</td>\n",
       "      <td>0.703846</td>\n",
       "      <td>21.511588</td>\n",
       "      <td>...</td>\n",
       "      <td>0.089829</td>\n",
       "      <td>0.474690</td>\n",
       "      <td>0.110658</td>\n",
       "      <td>0.345774</td>\n",
       "      <td>0.131012</td>\n",
       "      <td>0.410552</td>\n",
       "      <td>-10.361691</td>\n",
       "      <td>1.613350</td>\n",
       "      <td>28.002740</td>\n",
       "      <td>17.281246</td>\n",
       "    </tr>\n",
       "  </tbody>\n",
       "</table>\n",
       "<p>5 rows × 120 columns</p>\n",
       "</div>"
      ],
      "text/plain": [
       "               Player  Per90_% of Aerials Won  Per90_% of Dribblers Tackled  \\\n",
       "0     Aaron Cresswell               53.744897                     54.478054   \n",
       "1   Aaron Wan-Bissaka               46.982567                     74.928410   \n",
       "2  Abdoulaye Doucouré               48.890342                     34.887704   \n",
       "3     Issahaku Fatawu               57.046218                     57.095822   \n",
       "4        Adam Wharton               36.222236                     27.570076   \n",
       "\n",
       "   Per90_Aerials Lost  Per90_Aerials Won  Per90_Assists  \\\n",
       "0            1.050578           1.232776       0.126076   \n",
       "1            1.019510           0.916619       0.080330   \n",
       "2            1.244611           1.177708       0.088108   \n",
       "3            1.323621           1.714821       0.390979   \n",
       "4            0.875512           0.463434       0.162634   \n",
       "\n",
       "   Per90_Average Shot Distance  Per90_Ball Recoveries  Per90_Blocks  \\\n",
       "0                    23.713051               5.019973      1.003463   \n",
       "1                    15.204835               5.334216      1.442013   \n",
       "2                    16.691402               6.906970      1.076944   \n",
       "3                    22.707866               5.051253      1.321935   \n",
       "4                    17.211408               2.588938      0.703846   \n",
       "\n",
       "   Per90_Carries  ...  Per90_Yellow Cards  Per90_npxG + xAG  Per90_npxG/Shot  \\\n",
       "0      33.071370  ...            0.152007          0.151503         0.053259   \n",
       "1      31.436534  ...            0.126624          0.086534         0.081324   \n",
       "2      31.009267  ...            0.222580          0.232226         0.115489   \n",
       "3      34.739718  ...            0.118291          0.484339         0.058513   \n",
       "4      21.511588  ...            0.089829          0.474690         0.110658   \n",
       "\n",
       "   Per90_npxG: Non-Penalty xG  Per90_xAG: Exp. Assisted Goals  \\\n",
       "0                    0.028676                        0.125962   \n",
       "1                    0.025679                        0.061986   \n",
       "2                    0.142039                        0.088268   \n",
       "3                    0.145540                        0.338799   \n",
       "4                    0.345774                        0.131012   \n",
       "\n",
       "   Per90_xG: Expected Goals  Finishing_Efficiency  Assist_Efficiency  \\\n",
       "0                  0.028676              1.257216           1.235572   \n",
       "1                  0.025679              0.752012           1.590200   \n",
       "2                  0.142039             -2.619657           1.300938   \n",
       "3                  0.145540              3.879055           1.239622   \n",
       "4                  0.410552            -10.361691           1.613350   \n",
       "\n",
       "         age  player_market_value_euro  \n",
       "0  35.158904                 13.458836  \n",
       "1  27.210959                 16.906553  \n",
       "2  32.112329                 15.894952  \n",
       "3  20.931507                 16.380460  \n",
       "4  28.002740                 17.281246  \n",
       "\n",
       "[5 rows x 120 columns]"
      ]
     },
     "execution_count": 461,
     "metadata": {},
     "output_type": "execute_result"
    }
   ],
   "source": [
    "outfield_df.head()"
   ]
  },
  {
   "cell_type": "markdown",
   "metadata": {},
   "source": [
    "Dropping highly-correlated data"
   ]
  },
  {
   "cell_type": "code",
   "execution_count": 462,
   "metadata": {},
   "outputs": [],
   "source": [
    "# top_3_features = ['Player','age', 'Per90_Pass Completion % (Short)', 'Per90_Pass Completion % (Long)', 'Per90_GCA (Live-ball Pass)', 'Per90_Carries', 'Per90_Pass Completion %', 'Finishing_Efficiency']\n",
    "# outfield_df = outfield_df_reduced[top_3_features]"
   ]
  },
  {
   "cell_type": "markdown",
   "metadata": {},
   "source": [
    "Reducing Dimension"
   ]
  },
  {
   "cell_type": "code",
   "execution_count": 463,
   "metadata": {},
   "outputs": [],
   "source": [
    "# # Specify categorical columns to keep\n",
    "# non_statistical_data = [\"Player\"]  \n",
    "\n",
    "# # Separate categorical and numerical features\n",
    "# kept_features_df = outfield_df[non_statistical_data].reset_index(drop=True)  # Reset index for safe merge\n",
    "# features = outfield_df.drop(columns=non_statistical_data)  # Drop categorical columns for PCA\n",
    "\n",
    "# # Print the number of features before PCA\n",
    "# print(\"Number of features before PCA:\", features.shape[1])\n",
    "\n",
    "# # Apply PCA to retain 95% variance\n",
    "# pca = PCA(n_components=0.95)\n",
    "# X_pca = pca.fit_transform(X_scaled)\n",
    "\n",
    "# # Convert PCA output back to DataFrame\n",
    "# pca_df = pd.DataFrame(X_pca, index=outfield_df.index)\n",
    "\n",
    "# # # Name PCA columns properly\n",
    "# # pca_df.columns = [f'PCA_{i+1}' for i in range(pca_df.shape[1])]\n",
    "\n",
    "# # Concatenate categorical columns with PCA-transformed numerical data\n",
    "# outfield_df = pd.concat([kept_features_df, pca_df.reset_index(drop=True)], axis=1)\n",
    "\n",
    "# # Print the number of features after PCA\n",
    "# print(\"Number of features after PCA:\", pca_df.shape[1])\n",
    "\n",
    "# # Plot PCA explained variance\n",
    "# plt.plot(range(1, len(pca.explained_variance_ratio_)+1), pca.explained_variance_ratio_.cumsum(), marker='o')\n",
    "# plt.xlabel('Number of Components')\n",
    "# plt.ylabel('Cumulative Explained Variance')\n",
    "# plt.title(\"PCA Explained Variance\")\n",
    "# plt.show()"
   ]
  },
  {
   "cell_type": "markdown",
   "metadata": {},
   "source": [
    "Encoding Categorical Variables (all categorical were dropped as we are manually separating by position)"
   ]
  },
  {
   "cell_type": "code",
   "execution_count": 464,
   "metadata": {},
   "outputs": [],
   "source": [
    "# print(\"Columns before encoding:\", outfield_df.columns)\n",
    "# outfield_df = pd.get_dummies(outfield_df, columns=['Versus', 'scouting_period'])\n",
    "# print(\"Columns after encoding:\", outfield_df.columns)"
   ]
  },
  {
   "cell_type": "markdown",
   "metadata": {},
   "source": [
    "Others (Removing outliers)"
   ]
  }
 ],
 "metadata": {
  "kernelspec": {
   "display_name": "python-3.13",
   "language": "python",
   "name": "python3"
  },
  "language_info": {
   "codemirror_mode": {
    "name": "ipython",
    "version": 3
   },
   "file_extension": ".py",
   "mimetype": "text/x-python",
   "name": "python",
   "nbconvert_exporter": "python",
   "pygments_lexer": "ipython3",
   "version": "3.13.1"
  }
 },
 "nbformat": 4,
 "nbformat_minor": 2
}
